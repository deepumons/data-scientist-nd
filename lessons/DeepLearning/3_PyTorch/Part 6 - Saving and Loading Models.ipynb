{
 "cells": [
  {
   "cell_type": "markdown",
   "metadata": {},
   "source": [
    "# Saving and Loading Models\n",
    "\n",
    "In this notebook, I'll show you how to save and load models with PyTorch. This is important because you'll often want to load previously trained models to use in making predictions or to continue training on new data."
   ]
  },
  {
   "cell_type": "code",
   "execution_count": 1,
   "metadata": {},
   "outputs": [],
   "source": [
    "%matplotlib inline\n",
    "%config InlineBackend.figure_format = 'retina'\n",
    "\n",
    "import matplotlib.pyplot as plt\n",
    "\n",
    "import torch\n",
    "from torch import nn\n",
    "from torch import optim\n",
    "import torch.nn.functional as F\n",
    "from torchvision import datasets, transforms\n",
    "\n",
    "import helper\n",
    "import fc_model"
   ]
  },
  {
   "cell_type": "code",
   "execution_count": 2,
   "metadata": {},
   "outputs": [
    {
     "name": "stdout",
     "output_type": "stream",
     "text": [
      "Downloading http://fashion-mnist.s3-website.eu-central-1.amazonaws.com/train-images-idx3-ubyte.gz to F_MNIST_data/FashionMNIST\\raw\\train-images-idx3-ubyte.gz\n"
     ]
    },
    {
     "name": "stderr",
     "output_type": "stream",
     "text": [
      "26427392it [01:32, 154448.40it/s]                                                                                      "
     ]
    },
    {
     "name": "stdout",
     "output_type": "stream",
     "text": [
      "Extracting F_MNIST_data/FashionMNIST\\raw\\train-images-idx3-ubyte.gz\n",
      "Downloading http://fashion-mnist.s3-website.eu-central-1.amazonaws.com/train-labels-idx1-ubyte.gz to F_MNIST_data/FashionMNIST\\raw\\train-labels-idx1-ubyte.gz\n"
     ]
    },
    {
     "name": "stderr",
     "output_type": "stream",
     "text": [
      "\n",
      "0it [00:00, ?it/s]\n",
      "  0%|                                                                                        | 0/29515 [00:00<?, ?it/s]\n",
      " 56%|████████████████████████████████████████▌                                | 16384/29515 [00:00<00:00, 83378.10it/s]\n",
      "32768it [00:00, 35959.38it/s]                                                                                          "
     ]
    },
    {
     "name": "stdout",
     "output_type": "stream",
     "text": [
      "Extracting F_MNIST_data/FashionMNIST\\raw\\train-labels-idx1-ubyte.gz\n",
      "Downloading http://fashion-mnist.s3-website.eu-central-1.amazonaws.com/t10k-images-idx3-ubyte.gz to F_MNIST_data/FashionMNIST\\raw\\t10k-images-idx3-ubyte.gz\n"
     ]
    },
    {
     "name": "stderr",
     "output_type": "stream",
     "text": [
      "\n",
      "0it [00:00, ?it/s]\n",
      "  0%|                                                                                      | 0/4422102 [00:00<?, ?it/s]\n",
      "  0%|▎                                                                      | 16384/4422102 [00:00<00:57, 76513.44it/s]\n",
      "  1%|▌                                                                      | 32768/4422102 [00:00<00:49, 88187.48it/s]\n",
      "  1%|█                                                                     | 65536/4422102 [00:01<00:39, 110568.46it/s]\n",
      "  2%|█▎                                                                    | 81920/4422102 [00:01<00:37, 117246.81it/s]\n",
      "  2%|█▌                                                                    | 98304/4422102 [00:01<00:35, 122324.86it/s]\n",
      "  3%|█▊                                                                   | 114688/4422102 [00:01<00:36, 116535.39it/s]\n",
      "  3%|██                                                                   | 131072/4422102 [00:01<00:41, 102717.49it/s]\n",
      "  4%|██▍                                                                  | 155648/4422102 [00:01<00:35, 121004.50it/s]\n",
      "  4%|██▊                                                                  | 180224/4422102 [00:01<00:32, 130440.08it/s]\n",
      "  5%|███▏                                                                 | 204800/4422102 [00:02<00:33, 126694.37it/s]\n",
      "  5%|███▌                                                                 | 229376/4422102 [00:02<00:29, 143136.39it/s]\n",
      "  6%|███▉                                                                 | 253952/4422102 [00:02<00:28, 147978.73it/s]\n",
      "  6%|████▎                                                                | 278528/4422102 [00:02<00:30, 137703.93it/s]\n",
      "  7%|████▋                                                                | 303104/4422102 [00:02<00:27, 150927.56it/s]\n",
      "  7%|█████                                                                | 327680/4422102 [00:02<00:26, 155316.43it/s]\n",
      "  8%|█████▍                                                               | 352256/4422102 [00:03<00:28, 142353.64it/s]\n",
      "  9%|█████▉                                                               | 376832/4422102 [00:03<00:33, 120188.65it/s]\n",
      "  9%|██████▍                                                              | 409600/4422102 [00:03<00:30, 130572.83it/s]\n",
      " 10%|██████▋                                                              | 425984/4422102 [00:03<00:39, 102328.67it/s]\n",
      " 11%|███████▎                                                             | 466944/4422102 [00:04<00:33, 116342.79it/s]\n",
      " 11%|███████▋                                                             | 491520/4422102 [00:04<00:29, 133685.53it/s]\n",
      " 12%|████████                                                             | 516096/4422102 [00:04<00:31, 122358.69it/s]\n",
      " 12%|████████▍                                                            | 540672/4422102 [00:04<00:27, 138667.43it/s]\n",
      " 13%|████████▊                                                            | 565248/4422102 [00:04<00:25, 154268.78it/s]\n",
      " 13%|█████████▏                                                           | 589824/4422102 [00:04<00:24, 158123.52it/s]\n",
      " 14%|█████████▌                                                           | 614400/4422102 [00:05<00:26, 142097.02it/s]\n",
      " 15%|██████████                                                           | 647168/4422102 [00:05<00:22, 165992.77it/s]\n",
      " 15%|██████████▍                                                          | 671744/4422102 [00:05<00:22, 165455.24it/s]\n",
      " 16%|██████████▊                                                          | 696320/4422102 [00:05<00:25, 147104.41it/s]\n",
      " 16%|███████████▏                                                         | 720896/4422102 [00:05<00:23, 157707.55it/s]\n",
      " 17%|███████████▋                                                         | 745472/4422102 [00:05<00:22, 161941.72it/s]\n",
      " 18%|████████████▏                                                        | 778240/4422102 [00:05<00:22, 160501.11it/s]\n",
      " 18%|████████████▌                                                        | 802816/4422102 [00:06<00:21, 171807.01it/s]\n",
      " 19%|████████████▉                                                        | 827392/4422102 [00:06<00:21, 170377.30it/s]\n",
      " 19%|█████████████▍                                                       | 860160/4422102 [00:06<00:21, 163896.22it/s]\n",
      " 20%|█████████████▊                                                       | 884736/4422102 [00:06<00:20, 176843.70it/s]\n",
      " 21%|██████████████▏                                                      | 909312/4422102 [00:06<00:20, 170251.89it/s]\n",
      " 21%|██████████████▊                                                       | 933888/4422102 [00:07<00:39, 89185.93it/s]\n",
      " 22%|███████████████                                                      | 966656/4422102 [00:07<00:30, 113502.43it/s]\n",
      " 22%|███████████████▍                                                     | 991232/4422102 [00:07<00:26, 131578.63it/s]\n",
      " 23%|███████████████▌                                                    | 1015808/4422102 [00:07<00:28, 121186.17it/s]\n",
      " 24%|███████████████▉                                                    | 1040384/4422102 [00:08<00:29, 114956.27it/s]\n",
      " 24%|████████████████▎                                                   | 1056768/4422102 [00:08<00:29, 112842.28it/s]\n",
      " 24%|████████████████▋                                                    | 1073152/4422102 [00:08<00:33, 99500.41it/s]\n",
      " 25%|████████████████▊                                                   | 1089536/4422102 [00:08<00:30, 108640.33it/s]\n",
      " 25%|█████████████████▏                                                  | 1114112/4422102 [00:08<00:27, 120028.87it/s]\n",
      " 26%|█████████████████▍                                                  | 1130496/4422102 [00:08<00:31, 103901.15it/s]\n",
      " 26%|█████████████████▋                                                  | 1146880/4422102 [00:08<00:29, 112279.03it/s]\n",
      " 26%|██████████████████                                                  | 1171456/4422102 [00:09<00:26, 123487.27it/s]\n",
      " 27%|██████████████████▍                                                 | 1196032/4422102 [00:09<00:26, 121806.53it/s]\n",
      " 27%|██████████████████▋                                                 | 1212416/4422102 [00:09<00:25, 126204.24it/s]\n",
      " 28%|███████████████████                                                 | 1236992/4422102 [00:09<00:23, 135718.95it/s]\n",
      " 29%|███████████████████▍                                                | 1261568/4422102 [00:09<00:24, 129221.30it/s]\n",
      " 29%|███████████████████▊                                                | 1286144/4422102 [00:09<00:21, 145285.05it/s]\n",
      " 29%|████████████████████                                                | 1302528/4422102 [00:10<00:21, 142851.83it/s]\n",
      " 30%|████████████████████▍                                               | 1327104/4422102 [00:10<00:19, 156887.21it/s]\n",
      " 31%|████████████████████▊                                               | 1351680/4422102 [00:10<00:18, 167911.44it/s]\n",
      " 31%|█████████████████████▏                                              | 1376256/4422102 [00:10<00:18, 167696.59it/s]\n",
      " 32%|█████████████████████▌                                              | 1400832/4422102 [00:10<00:17, 174807.75it/s]\n",
      " 32%|█████████████████████▉                                              | 1425408/4422102 [00:10<00:19, 154197.92it/s]\n",
      " 33%|██████████████████████▏                                             | 1441792/4422102 [00:11<00:26, 112015.54it/s]\n",
      " 33%|██████████████████████▋                                             | 1474560/4422102 [00:11<00:21, 136181.33it/s]\n",
      " 34%|███████████████████████                                             | 1499136/4422102 [00:11<00:19, 151421.05it/s]\n",
      " 34%|███████████████████████▍                                            | 1523712/4422102 [00:11<00:18, 153691.43it/s]\n",
      " 35%|███████████████████████▊                                            | 1548288/4422102 [00:11<00:20, 141542.21it/s]\n",
      " 36%|████████████████████████▏                                           | 1572864/4422102 [00:11<00:18, 155818.34it/s]\n",
      " 36%|████████████████████████▌                                           | 1597440/4422102 [00:11<00:16, 167895.73it/s]\n"
     ]
    },
    {
     "name": "stderr",
     "output_type": "stream",
     "text": [
      " 37%|████████████████████████▉                                           | 1622016/4422102 [00:12<00:17, 163641.50it/s]\n",
      " 37%|█████████████████████████▎                                          | 1646592/4422102 [00:12<00:16, 171004.20it/s]\n",
      " 38%|█████████████████████████▋                                          | 1671168/4422102 [00:12<00:15, 180206.17it/s]\n",
      " 38%|██████████████████████████                                          | 1695744/4422102 [00:12<00:17, 159239.75it/s]\n",
      " 39%|██████████████████████████▍                                         | 1720320/4422102 [00:12<00:17, 154203.08it/s]\n",
      " 40%|██████████████████████████▉                                         | 1753088/4422102 [00:12<00:14, 179959.55it/s]\n",
      " 40%|███████████████████████████▍                                        | 1785856/4422102 [00:12<00:15, 175424.33it/s]\n",
      " 41%|███████████████████████████▊                                        | 1810432/4422102 [00:13<00:14, 182999.54it/s]\n",
      " 41%|████████████████████████████▏                                       | 1835008/4422102 [00:13<00:17, 146091.66it/s]\n",
      " 42%|████████████████████████████▌                                       | 1859584/4422102 [00:13<00:15, 163374.05it/s]\n",
      " 43%|████████████████████████████▉                                       | 1884160/4422102 [00:13<00:14, 171177.04it/s]\n",
      " 43%|█████████████████████████████▎                                      | 1908736/4422102 [00:13<00:15, 165251.73it/s]\n",
      " 44%|█████████████████████████████▋                                      | 1933312/4422102 [00:13<00:16, 151747.10it/s]\n",
      " 44%|█████████████████████████████▉                                      | 1949696/4422102 [00:14<00:17, 140033.78it/s]\n",
      " 45%|██████████████████████████████▎                                     | 1974272/4422102 [00:14<00:15, 160609.17it/s]\n",
      " 45%|██████████████████████████████▋                                     | 1998848/4422102 [00:14<00:14, 171384.80it/s]\n",
      " 46%|███████████████████████████████                                     | 2023424/4422102 [00:14<00:13, 176911.71it/s]\n",
      " 46%|███████████████████████████████▍                                    | 2048000/4422102 [00:14<00:13, 176403.45it/s]\n",
      " 47%|███████████████████████████████▊                                    | 2072576/4422102 [00:14<00:13, 176755.99it/s]\n",
      " 47%|████████████████████████████████▏                                   | 2097152/4422102 [00:14<00:14, 158121.45it/s]\n",
      " 48%|████████████████████████████████▊                                   | 2129920/4422102 [00:14<00:12, 179330.12it/s]\n",
      " 49%|█████████████████████████████████▏                                  | 2154496/4422102 [00:15<00:13, 168884.64it/s]\n",
      "26427392it [01:50, 154448.40it/s]█████▌                                  | 2179072/4422102 [00:15<00:14, 154544.52it/s]\n",
      " 50%|█████████████████████████████████▉                                  | 2203648/4422102 [00:15<00:13, 166951.63it/s]\n",
      " 51%|██████████████████████████████████▌                                 | 2244608/4422102 [00:15<00:11, 184558.36it/s]\n",
      " 51%|███████████████████████████████████                                 | 2277376/4422102 [00:15<00:12, 170875.98it/s]\n",
      " 52%|███████████████████████████████████▋                                | 2318336/4422102 [00:15<00:10, 206439.33it/s]\n",
      " 53%|████████████████████████████████████▏                               | 2351104/4422102 [00:16<00:09, 207715.42it/s]\n",
      " 54%|████████████████████████████████████▌                               | 2375680/4422102 [00:16<00:11, 175976.77it/s]\n",
      " 54%|████████████████████████████████████▉                               | 2400256/4422102 [00:16<00:13, 144788.36it/s]\n",
      " 55%|█████████████████████████████████████▋                              | 2449408/4422102 [00:16<00:10, 179650.76it/s]\n",
      " 56%|██████████████████████████████████████                              | 2473984/4422102 [00:16<00:10, 186532.77it/s]\n",
      " 57%|██████████████████████████████████████▍                             | 2498560/4422102 [00:17<00:12, 149485.37it/s]\n",
      " 57%|██████████████████████████████████████▊                             | 2523136/4422102 [00:17<00:11, 162739.20it/s]\n",
      " 58%|███████████████████████████████████████▏                            | 2547712/4422102 [00:17<00:10, 173333.97it/s]\n",
      " 58%|███████████████████████████████████████▋                            | 2580480/4422102 [00:17<00:09, 193490.78it/s]\n",
      " 59%|████████████████████████████████████████                            | 2605056/4422102 [00:17<00:10, 178427.15it/s]\n",
      " 59%|████████████████████████████████████████▍                           | 2629632/4422102 [00:17<00:13, 129049.50it/s]\n",
      " 61%|█████████████████████████████████████████▏                          | 2678784/4422102 [00:17<00:10, 162910.56it/s]\n",
      " 61%|█████████████████████████████████████████▌                          | 2703360/4422102 [00:18<00:12, 137791.99it/s]\n",
      " 62%|█████████████████████████████████████████▉                          | 2727936/4422102 [00:18<00:11, 145760.95it/s]\n",
      " 62%|██████████████████████████████████████████▎                         | 2752512/4422102 [00:18<00:10, 164064.03it/s]\n",
      " 63%|██████████████████████████████████████████▋                         | 2777088/4422102 [00:18<00:10, 160360.13it/s]\n",
      " 63%|███████████████████████████████████████████                         | 2801664/4422102 [00:18<00:09, 172177.08it/s]\n",
      " 64%|███████████████████████████████████████████▍                        | 2826240/4422102 [00:18<00:10, 157611.65it/s]\n",
      " 64%|███████████████████████████████████████████▊                        | 2850816/4422102 [00:19<00:09, 167709.95it/s]\n",
      " 65%|████████████████████████████████████████████▏                       | 2875392/4422102 [00:19<00:08, 172351.36it/s]\n",
      " 66%|████████████████████████████████████████████▌                       | 2899968/4422102 [00:19<00:08, 170969.17it/s]\n",
      " 66%|████████████████████████████████████████████▉                       | 2924544/4422102 [00:19<00:08, 177662.84it/s]\n",
      " 67%|█████████████████████████████████████████████▎                      | 2949120/4422102 [00:19<00:09, 151684.43it/s]\n",
      " 68%|█████████████████████████████████████████████▉                      | 2990080/4422102 [00:19<00:08, 177569.75it/s]\n",
      " 68%|██████████████████████████████████████████████▎                     | 3014656/4422102 [00:20<00:11, 126957.84it/s]\n",
      " 69%|██████████████████████████████████████████████▊                     | 3047424/4422102 [00:20<00:10, 130674.01it/s]\n",
      " 69%|███████████████████████████████████████████████▏                    | 3072000/4422102 [00:20<00:09, 146785.56it/s]\n",
      " 70%|███████████████████████████████████████████████▌                    | 3096576/4422102 [00:20<00:08, 159672.20it/s]\n",
      " 71%|███████████████████████████████████████████████▉                    | 3121152/4422102 [00:20<00:07, 171327.06it/s]\n",
      " 71%|████████████████████████████████████████████████▎                   | 3145728/4422102 [00:20<00:08, 142848.40it/s]\n",
      " 72%|████████████████████████████████████████████████▌                   | 3162112/4422102 [00:21<00:11, 107728.25it/s]\n",
      " 72%|████████████████████████████████████████████████▉                   | 3178496/4422102 [00:21<00:11, 112793.79it/s]\n",
      " 73%|█████████████████████████████████████████████████▍                  | 3211264/4422102 [00:21<00:08, 138456.16it/s]\n",
      " 73%|█████████████████████████████████████████████████▊                  | 3235840/4422102 [00:21<00:07, 151614.95it/s]\n",
      " 74%|██████████████████████████████████████████████████▏                 | 3260416/4422102 [00:21<00:08, 131218.11it/s]\n",
      " 74%|██████████████████████████████████████████████████▍                 | 3276800/4422102 [00:21<00:08, 136828.49it/s]\n",
      " 74%|██████████████████████████████████████████████████▋                 | 3293184/4422102 [00:22<00:08, 136635.61it/s]\n",
      " 75%|██████████████████████████████████████████████████▉                 | 3309568/4422102 [00:22<00:08, 136593.14it/s]\n",
      " 75%|███████████████████████████████████████████████████▎                | 3334144/4422102 [00:22<00:07, 148761.85it/s]\n",
      " 76%|███████████████████████████████████████████████████▌                | 3350528/4422102 [00:22<00:07, 149106.28it/s]\n",
      " 76%|███████████████████████████████████████████████████▊                | 3366912/4422102 [00:22<00:07, 144522.47it/s]\n"
     ]
    },
    {
     "name": "stderr",
     "output_type": "stream",
     "text": [
      " 77%|████████████████████████████████████████████████████                | 3383296/4422102 [00:22<00:07, 142613.79it/s]\n",
      " 77%|████████████████████████████████████████████████████▍               | 3407872/4422102 [00:22<00:06, 149192.97it/s]\n",
      " 78%|████████████████████████████████████████████████████▊               | 3432448/4422102 [00:22<00:06, 154271.03it/s]\n",
      " 78%|█████████████████████████████████████████████████████▏              | 3457024/4422102 [00:23<00:06, 146552.81it/s]\n",
      " 79%|█████████████████████████████████████████████████████▌              | 3481600/4422102 [00:23<00:06, 156529.01it/s]\n",
      " 79%|█████████████████████████████████████████████████████▊              | 3497984/4422102 [00:23<00:05, 155614.58it/s]\n",
      " 80%|██████████████████████████████████████████████████████▏             | 3522560/4422102 [00:23<00:05, 156538.48it/s]\n",
      " 80%|██████████████████████████████████████████████████████▋             | 3555328/4422102 [00:23<00:04, 177061.49it/s]\n",
      " 81%|███████████████████████████████████████████████████████             | 3579904/4422102 [00:23<00:05, 157550.04it/s]\n",
      " 82%|███████████████████████████████████████████████████████▍            | 3604480/4422102 [00:24<00:06, 134743.36it/s]\n",
      " 82%|███████████████████████████████████████████████████████▋            | 3620864/4422102 [00:24<00:05, 136471.38it/s]\n",
      " 82%|████████████████████████████████████████████████████████            | 3645440/4422102 [00:24<00:05, 151069.31it/s]\n",
      " 83%|████████████████████████████████████████████████████████▎           | 3661824/4422102 [00:24<00:05, 147250.00it/s]\n",
      " 83%|████████████████████████████████████████████████████████▌           | 3678208/4422102 [00:24<00:05, 144270.19it/s]\n",
      " 84%|████████████████████████████████████████████████████████▉           | 3702784/4422102 [00:24<00:04, 152278.30it/s]\n",
      " 84%|█████████████████████████████████████████████████████████▏          | 3719168/4422102 [00:24<00:04, 155515.30it/s]\n",
      " 84%|█████████████████████████████████████████████████████████▍          | 3735552/4422102 [00:24<00:04, 149325.15it/s]\n",
      " 85%|█████████████████████████████████████████████████████████▊          | 3760128/4422102 [00:25<00:04, 162622.17it/s]\n",
      " 86%|██████████████████████████████████████████████████████████▏         | 3784704/4422102 [00:25<00:03, 168189.85it/s]\n",
      " 86%|██████████████████████████████████████████████████████████▌         | 3809280/4422102 [00:25<00:03, 164778.18it/s]\n",
      " 87%|██████████████████████████████████████████████████████████▉         | 3833856/4422102 [00:25<00:03, 175984.91it/s]\n",
      " 87%|███████████████████████████████████████████████████████████▍        | 3866624/4422102 [00:25<00:02, 199017.76it/s]\n",
      " 88%|███████████████████████████████████████████████████████████▊        | 3891200/4422102 [00:25<00:02, 197514.70it/s]\n",
      " 89%|████████████████████████████████████████████████████████████▏       | 3915776/4422102 [00:25<00:02, 169754.77it/s]\n",
      " 89%|████████████████████████████████████████████████████████████▌       | 3940352/4422102 [00:26<00:02, 179094.40it/s]\n",
      " 90%|████████████████████████████████████████████████████████████▉       | 3964928/4422102 [00:26<00:02, 175756.14it/s]\n",
      " 90%|█████████████████████████████████████████████████████████████▎      | 3989504/4422102 [00:26<00:02, 173271.09it/s]\n",
      " 91%|█████████████████████████████████████████████████████████████▊      | 4022272/4422102 [00:26<00:02, 173648.46it/s]\n",
      " 92%|██████████████████████████████████████████████████████████████▏     | 4046848/4422102 [00:26<00:02, 183265.16it/s]\n",
      " 92%|██████████████████████████████████████████████████████████████▌     | 4071424/4422102 [00:26<00:02, 136960.34it/s]\n",
      " 94%|███████████████████████████████████████████████████████████████▌    | 4136960/4422102 [00:27<00:01, 175734.06it/s]\n",
      " 94%|████████████████████████████████████████████████████████████████    | 4169728/4422102 [00:27<00:01, 174986.90it/s]\n",
      " 95%|████████████████████████████████████████████████████████████████▍   | 4194304/4422102 [00:27<00:01, 178716.22it/s]\n",
      " 95%|████████████████████████████████████████████████████████████████▊   | 4218880/4422102 [00:27<00:01, 188577.62it/s]\n",
      " 96%|█████████████████████████████████████████████████████████████████▎  | 4243456/4422102 [00:27<00:00, 188720.38it/s]\n",
      " 97%|█████████████████████████████████████████████████████████████████▋  | 4268032/4422102 [00:27<00:00, 199452.66it/s]\n",
      " 97%|██████████████████████████████████████████████████████████████████  | 4292608/4422102 [00:27<00:00, 199066.98it/s]\n",
      " 98%|██████████████████████████████████████████████████████████████████▍ | 4317184/4422102 [00:27<00:00, 202595.15it/s]\n",
      " 98%|██████████████████████████████████████████████████████████████████▊ | 4341760/4422102 [00:28<00:00, 202210.29it/s]\n",
      " 99%|███████████████████████████████████████████████████████████████████▎| 4374528/4422102 [00:28<00:00, 220053.86it/s]\n",
      " 99%|███████████████████████████████████████████████████████████████████▋| 4399104/4422102 [00:28<00:00, 214169.06it/s]\n",
      "4423680it [00:28, 212487.83it/s]                                                                                       "
     ]
    },
    {
     "name": "stdout",
     "output_type": "stream",
     "text": [
      "Extracting F_MNIST_data/FashionMNIST\\raw\\t10k-images-idx3-ubyte.gz\n",
      "Downloading http://fashion-mnist.s3-website.eu-central-1.amazonaws.com/t10k-labels-idx1-ubyte.gz to F_MNIST_data/FashionMNIST\\raw\\t10k-labels-idx1-ubyte.gz\n"
     ]
    },
    {
     "name": "stderr",
     "output_type": "stream",
     "text": [
      "\n",
      "\n",
      "0it [00:00, ?it/s]\n",
      "\n",
      "  0%|                                                                                         | 0/5148 [00:00<?, ?it/s]\n",
      "\n",
      "8192it [00:00, 12849.24it/s]                                                                                           "
     ]
    },
    {
     "name": "stdout",
     "output_type": "stream",
     "text": [
      "Extracting F_MNIST_data/FashionMNIST\\raw\\t10k-labels-idx1-ubyte.gz\n",
      "Processing...\n",
      "Done!\n"
     ]
    }
   ],
   "source": [
    "# Define a transform to normalize the data\n",
    "transform = transforms.Compose([transforms.ToTensor(),\n",
    "                                transforms.Normalize((0.5,), (0.5,))])\n",
    "# Download and load the training data\n",
    "trainset = datasets.FashionMNIST('F_MNIST_data/', download=True, train=True, transform=transform)\n",
    "trainloader = torch.utils.data.DataLoader(trainset, batch_size=64, shuffle=True)\n",
    "\n",
    "# Download and load the test data\n",
    "testset = datasets.FashionMNIST('F_MNIST_data/', download=True, train=False, transform=transform)\n",
    "testloader = torch.utils.data.DataLoader(testset, batch_size=64, shuffle=True)"
   ]
  },
  {
   "cell_type": "markdown",
   "metadata": {},
   "source": [
    "Here we can see one of the images."
   ]
  },
  {
   "cell_type": "code",
   "execution_count": 3,
   "metadata": {},
   "outputs": [
    {
     "data": {
      "image/png": "[encoded data removed]",
      "text/plain": [
       "<Figure size 432x288 with 1 Axes>"
      ]
     },
     "metadata": {
      "image/png": {
       "height": 233,
       "width": 233
      },
      "needs_background": "light"
     },
     "output_type": "display_data"
    },
    {
     "name": "stderr",
     "output_type": "stream",
     "text": [
      "\n",
      "4423680it [00:45, 212487.83it/s]"
     ]
    }
   ],
   "source": [
    "image, label = next(iter(trainloader))\n",
    "helper.imshow(image[0,:]);"
   ]
  },
  {
   "cell_type": "markdown",
   "metadata": {},
   "source": [
    "# Train a network\n",
    "\n",
    "To make things more concise here, I moved the model architecture and training code from the last part to a file called `fc_model`. Importing this, we can easily create a fully-connected network with `fc_model.Network`, and train the network using `fc_model.train`. I'll use this model (once it's trained) to demonstrate how we can save and load models."
   ]
  },
  {
   "cell_type": "code",
   "execution_count": 4,
   "metadata": {},
   "outputs": [],
   "source": [
    "# Create the network, define the criterion and optimizer\n",
    "\n",
    "model = fc_model.Network(784, 10, [512, 256, 128])\n",
    "criterion = nn.NLLLoss()\n",
    "optimizer = optim.Adam(model.parameters(), lr=0.001)"
   ]
  },
  {
   "cell_type": "code",
   "execution_count": 5,
   "metadata": {},
   "outputs": [
    {
     "name": "stdout",
     "output_type": "stream",
     "text": [
      "Epoch: 1/2..  Training Loss: 1.631..  Test Loss: 0.895..  Test Accuracy: 0.665\n",
      "Epoch: 1/2..  Training Loss: 0.956..  Test Loss: 0.725..  Test Accuracy: 0.735\n",
      "Epoch: 1/2..  Training Loss: 0.856..  Test Loss: 0.675..  Test Accuracy: 0.739\n",
      "Epoch: 1/2..  Training Loss: 0.815..  Test Loss: 0.651..  Test Accuracy: 0.740\n",
      "Epoch: 1/2..  Training Loss: 0.757..  Test Loss: 0.638..  Test Accuracy: 0.750\n",
      "Epoch: 1/2..  Training Loss: 0.733..  Test Loss: 0.616..  Test Accuracy: 0.767\n",
      "Epoch: 1/2..  Training Loss: 0.716..  Test Loss: 0.586..  Test Accuracy: 0.779\n",
      "Epoch: 1/2..  Training Loss: 0.654..  Test Loss: 0.568..  Test Accuracy: 0.786\n",
      "Epoch: 1/2..  Training Loss: 0.665..  Test Loss: 0.566..  Test Accuracy: 0.791\n",
      "Epoch: 1/2..  Training Loss: 0.654..  Test Loss: 0.562..  Test Accuracy: 0.788\n",
      "Epoch: 1/2..  Training Loss: 0.655..  Test Loss: 0.543..  Test Accuracy: 0.796\n",
      "Epoch: 1/2..  Training Loss: 0.627..  Test Loss: 0.538..  Test Accuracy: 0.801\n",
      "Epoch: 1/2..  Training Loss: 0.610..  Test Loss: 0.514..  Test Accuracy: 0.815\n",
      "Epoch: 1/2..  Training Loss: 0.638..  Test Loss: 0.542..  Test Accuracy: 0.800\n",
      "Epoch: 1/2..  Training Loss: 0.607..  Test Loss: 0.522..  Test Accuracy: 0.814\n",
      "Epoch: 1/2..  Training Loss: 0.554..  Test Loss: 0.509..  Test Accuracy: 0.814\n",
      "Epoch: 1/2..  Training Loss: 0.580..  Test Loss: 0.510..  Test Accuracy: 0.811\n",
      "Epoch: 1/2..  Training Loss: 0.566..  Test Loss: 0.504..  Test Accuracy: 0.807\n",
      "Epoch: 1/2..  Training Loss: 0.561..  Test Loss: 0.501..  Test Accuracy: 0.816\n",
      "Epoch: 1/2..  Training Loss: 0.566..  Test Loss: 0.506..  Test Accuracy: 0.816\n",
      "Epoch: 1/2..  Training Loss: 0.628..  Test Loss: 0.509..  Test Accuracy: 0.813\n",
      "Epoch: 1/2..  Training Loss: 0.575..  Test Loss: 0.494..  Test Accuracy: 0.819\n",
      "Epoch: 1/2..  Training Loss: 0.568..  Test Loss: 0.487..  Test Accuracy: 0.817\n",
      "Epoch: 2/2..  Training Loss: 0.535..  Test Loss: 0.469..  Test Accuracy: 0.827\n",
      "Epoch: 2/2..  Training Loss: 0.545..  Test Loss: 0.475..  Test Accuracy: 0.826\n",
      "Epoch: 2/2..  Training Loss: 0.529..  Test Loss: 0.475..  Test Accuracy: 0.827\n",
      "Epoch: 2/2..  Training Loss: 0.580..  Test Loss: 0.471..  Test Accuracy: 0.826\n",
      "Epoch: 2/2..  Training Loss: 0.540..  Test Loss: 0.492..  Test Accuracy: 0.813\n",
      "Epoch: 2/2..  Training Loss: 0.519..  Test Loss: 0.489..  Test Accuracy: 0.820\n",
      "Epoch: 2/2..  Training Loss: 0.547..  Test Loss: 0.492..  Test Accuracy: 0.824\n",
      "Epoch: 2/2..  Training Loss: 0.510..  Test Loss: 0.473..  Test Accuracy: 0.831\n",
      "Epoch: 2/2..  Training Loss: 0.579..  Test Loss: 0.480..  Test Accuracy: 0.825\n",
      "Epoch: 2/2..  Training Loss: 0.541..  Test Loss: 0.456..  Test Accuracy: 0.829\n",
      "Epoch: 2/2..  Training Loss: 0.498..  Test Loss: 0.486..  Test Accuracy: 0.827\n",
      "Epoch: 2/2..  Training Loss: 0.555..  Test Loss: 0.469..  Test Accuracy: 0.832\n",
      "Epoch: 2/2..  Training Loss: 0.528..  Test Loss: 0.452..  Test Accuracy: 0.836\n",
      "Epoch: 2/2..  Training Loss: 0.505..  Test Loss: 0.461..  Test Accuracy: 0.826\n",
      "Epoch: 2/2..  Training Loss: 0.531..  Test Loss: 0.457..  Test Accuracy: 0.831\n",
      "Epoch: 2/2..  Training Loss: 0.517..  Test Loss: 0.454..  Test Accuracy: 0.835\n",
      "Epoch: 2/2..  Training Loss: 0.533..  Test Loss: 0.465..  Test Accuracy: 0.832\n",
      "Epoch: 2/2..  Training Loss: 0.514..  Test Loss: 0.451..  Test Accuracy: 0.838\n",
      "Epoch: 2/2..  Training Loss: 0.476..  Test Loss: 0.447..  Test Accuracy: 0.837\n",
      "Epoch: 2/2..  Training Loss: 0.545..  Test Loss: 0.459..  Test Accuracy: 0.838\n",
      "Epoch: 2/2..  Training Loss: 0.531..  Test Loss: 0.449..  Test Accuracy: 0.836\n",
      "Epoch: 2/2..  Training Loss: 0.543..  Test Loss: 0.438..  Test Accuracy: 0.840\n",
      "Epoch: 2/2..  Training Loss: 0.541..  Test Loss: 0.444..  Test Accuracy: 0.837\n"
     ]
    }
   ],
   "source": [
    "fc_model.train(model, trainloader, testloader, criterion, optimizer, epochs=2)"
   ]
  },
  {
   "cell_type": "markdown",
   "metadata": {},
   "source": [
    "## Saving and loading networks\n",
    "\n",
    "As you can imagine, it's impractical to train a network every time you need to use it. Instead, we can save trained networks then load them later to train more or use them for predictions.\n",
    "\n",
    "The parameters for PyTorch networks are stored in a model's `state_dict`. We can see the state dict contains the weight and bias matrices for each of our layers."
   ]
  },
  {
   "cell_type": "code",
   "execution_count": 6,
   "metadata": {},
   "outputs": [
    {
     "name": "stdout",
     "output_type": "stream",
     "text": [
      "Our model: \n",
      "\n",
      " Network(\n",
      "  (hidden_layers): ModuleList(\n",
      "    (0): Linear(in_features=784, out_features=512, bias=True)\n",
      "    (1): Linear(in_features=512, out_features=256, bias=True)\n",
      "    (2): Linear(in_features=256, out_features=128, bias=True)\n",
      "  )\n",
      "  (output): Linear(in_features=128, out_features=10, bias=True)\n",
      "  (dropout): Dropout(p=0.5)\n",
      ") \n",
      "\n",
      "The state dict keys: \n",
      "\n",
      " odict_keys(['hidden_layers.0.weight', 'hidden_layers.0.bias', 'hidden_layers.1.weight', 'hidden_layers.1.bias', 'hidden_layers.2.weight', 'hidden_layers.2.bias', 'output.weight', 'output.bias'])\n"
     ]
    }
   ],
   "source": [
    "print(\"Our model: \\n\\n\", model, '\\n')\n",
    "print(\"The state dict keys: \\n\\n\", model.state_dict().keys())"
   ]
  },
  {
   "cell_type": "markdown",
   "metadata": {},
   "source": [
    "The simplest thing to do is simply save the state dict with `torch.save`. For example, we can save it to a file `'checkpoint.pth'`."
   ]
  },
  {
   "cell_type": "code",
   "execution_count": 7,
   "metadata": {},
   "outputs": [],
   "source": [
    "torch.save(model.state_dict(), 'checkpoint.pth')"
   ]
  },
  {
   "cell_type": "markdown",
   "metadata": {},
   "source": [
    "Then we can load the state dict with `torch.load`."
   ]
  },
  {
   "cell_type": "code",
   "execution_count": 8,
   "metadata": {},
   "outputs": [
    {
     "name": "stdout",
     "output_type": "stream",
     "text": [
      "odict_keys(['hidden_layers.0.weight', 'hidden_layers.0.bias', 'hidden_layers.1.weight', 'hidden_layers.1.bias', 'hidden_layers.2.weight', 'hidden_layers.2.bias', 'output.weight', 'output.bias'])\n"
     ]
    }
   ],
   "source": [
    "state_dict = torch.load('checkpoint.pth')\n",
    "print(state_dict.keys())"
   ]
  },
  {
   "cell_type": "markdown",
   "metadata": {},
   "source": [
    "And to load the state dict in to the network, you do `model.load_state_dict(state_dict)`."
   ]
  },
  {
   "cell_type": "code",
   "execution_count": 9,
   "metadata": {},
   "outputs": [],
   "source": [
    "model.load_state_dict(state_dict)"
   ]
  },
  {
   "cell_type": "markdown",
   "metadata": {},
   "source": [
    "Seems pretty straightforward, but as usual it's a bit more complicated. Loading the state dict works only if the model architecture is exactly the same as the checkpoint architecture. If I create a model with a different architecture, this fails."
   ]
  },
  {
   "cell_type": "code",
   "execution_count": 10,
   "metadata": {},
   "outputs": [
    {
     "ename": "RuntimeError",
     "evalue": "Error(s) in loading state_dict for Network:\n\tsize mismatch for hidden_layers.0.weight: copying a param with shape torch.Size([512, 784]) from checkpoint, the shape in current model is torch.Size([400, 784]).\n\tsize mismatch for hidden_layers.0.bias: copying a param with shape torch.Size([512]) from checkpoint, the shape in current model is torch.Size([400]).\n\tsize mismatch for hidden_layers.1.weight: copying a param with shape torch.Size([256, 512]) from checkpoint, the shape in current model is torch.Size([200, 400]).\n\tsize mismatch for hidden_layers.1.bias: copying a param with shape torch.Size([256]) from checkpoint, the shape in current model is torch.Size([200]).\n\tsize mismatch for hidden_layers.2.weight: copying a param with shape torch.Size([128, 256]) from checkpoint, the shape in current model is torch.Size([100, 200]).\n\tsize mismatch for hidden_layers.2.bias: copying a param with shape torch.Size([128]) from checkpoint, the shape in current model is torch.Size([100]).\n\tsize mismatch for output.weight: copying a param with shape torch.Size([10, 128]) from checkpoint, the shape in current model is torch.Size([10, 100]).",
     "output_type": "error",
     "traceback": [
      "\u001b[1;31m---------------------------------------------------------------------------\u001b[0m",
      "\u001b[1;31mRuntimeError\u001b[0m                              Traceback (most recent call last)",
      "\u001b[1;32m<ipython-input-10-d859c59ebec0>\u001b[0m in \u001b[0;36m<module>\u001b[1;34m\u001b[0m\n\u001b[0;32m      2\u001b[0m \u001b[0mmodel\u001b[0m \u001b[1;33m=\u001b[0m \u001b[0mfc_model\u001b[0m\u001b[1;33m.\u001b[0m\u001b[0mNetwork\u001b[0m\u001b[1;33m(\u001b[0m\u001b[1;36m784\u001b[0m\u001b[1;33m,\u001b[0m \u001b[1;36m10\u001b[0m\u001b[1;33m,\u001b[0m \u001b[1;33m[\u001b[0m\u001b[1;36m400\u001b[0m\u001b[1;33m,\u001b[0m \u001b[1;36m200\u001b[0m\u001b[1;33m,\u001b[0m \u001b[1;36m100\u001b[0m\u001b[1;33m]\u001b[0m\u001b[1;33m)\u001b[0m\u001b[1;33m\u001b[0m\u001b[1;33m\u001b[0m\u001b[0m\n\u001b[0;32m      3\u001b[0m \u001b[1;31m# This will throw an error because the tensor sizes are wrong!\u001b[0m\u001b[1;33m\u001b[0m\u001b[1;33m\u001b[0m\u001b[1;33m\u001b[0m\u001b[0m\n\u001b[1;32m----> 4\u001b[1;33m \u001b[0mmodel\u001b[0m\u001b[1;33m.\u001b[0m\u001b[0mload_state_dict\u001b[0m\u001b[1;33m(\u001b[0m\u001b[0mstate_dict\u001b[0m\u001b[1;33m)\u001b[0m\u001b[1;33m\u001b[0m\u001b[1;33m\u001b[0m\u001b[0m\n\u001b[0m",
      "\u001b[1;32m~\\Anaconda3\\lib\\site-packages\\torch\\nn\\modules\\module.py\u001b[0m in \u001b[0;36mload_state_dict\u001b[1;34m(self, state_dict, strict)\u001b[0m\n\u001b[0;32m    767\u001b[0m         \u001b[1;32mif\u001b[0m \u001b[0mlen\u001b[0m\u001b[1;33m(\u001b[0m\u001b[0merror_msgs\u001b[0m\u001b[1;33m)\u001b[0m \u001b[1;33m>\u001b[0m \u001b[1;36m0\u001b[0m\u001b[1;33m:\u001b[0m\u001b[1;33m\u001b[0m\u001b[1;33m\u001b[0m\u001b[0m\n\u001b[0;32m    768\u001b[0m             raise RuntimeError('Error(s) in loading state_dict for {}:\\n\\t{}'.format(\n\u001b[1;32m--> 769\u001b[1;33m                                self.__class__.__name__, \"\\n\\t\".join(error_msgs)))\n\u001b[0m\u001b[0;32m    770\u001b[0m \u001b[1;33m\u001b[0m\u001b[0m\n\u001b[0;32m    771\u001b[0m     \u001b[1;32mdef\u001b[0m \u001b[0m_named_members\u001b[0m\u001b[1;33m(\u001b[0m\u001b[0mself\u001b[0m\u001b[1;33m,\u001b[0m \u001b[0mget_members_fn\u001b[0m\u001b[1;33m,\u001b[0m \u001b[0mprefix\u001b[0m\u001b[1;33m=\u001b[0m\u001b[1;34m''\u001b[0m\u001b[1;33m,\u001b[0m \u001b[0mrecurse\u001b[0m\u001b[1;33m=\u001b[0m\u001b[1;32mTrue\u001b[0m\u001b[1;33m)\u001b[0m\u001b[1;33m:\u001b[0m\u001b[1;33m\u001b[0m\u001b[1;33m\u001b[0m\u001b[0m\n",
      "\u001b[1;31mRuntimeError\u001b[0m: Error(s) in loading state_dict for Network:\n\tsize mismatch for hidden_layers.0.weight: copying a param with shape torch.Size([512, 784]) from checkpoint, the shape in current model is torch.Size([400, 784]).\n\tsize mismatch for hidden_layers.0.bias: copying a param with shape torch.Size([512]) from checkpoint, the shape in current model is torch.Size([400]).\n\tsize mismatch for hidden_layers.1.weight: copying a param with shape torch.Size([256, 512]) from checkpoint, the shape in current model is torch.Size([200, 400]).\n\tsize mismatch for hidden_layers.1.bias: copying a param with shape torch.Size([256]) from checkpoint, the shape in current model is torch.Size([200]).\n\tsize mismatch for hidden_layers.2.weight: copying a param with shape torch.Size([128, 256]) from checkpoint, the shape in current model is torch.Size([100, 200]).\n\tsize mismatch for hidden_layers.2.bias: copying a param with shape torch.Size([128]) from checkpoint, the shape in current model is torch.Size([100]).\n\tsize mismatch for output.weight: copying a param with shape torch.Size([10, 128]) from checkpoint, the shape in current model is torch.Size([10, 100])."
     ]
    }
   ],
   "source": [
    "# Try this\n",
    "model = fc_model.Network(784, 10, [400, 200, 100])\n",
    "# This will throw an error because the tensor sizes are wrong!\n",
    "model.load_state_dict(state_dict)"
   ]
  },
  {
   "cell_type": "markdown",
   "metadata": {},
   "source": [
    "This means we need to rebuild the model exactly as it was when trained. Information about the model architecture needs to be saved in the checkpoint, along with the state dict. To do this, you build a dictionary with all the information you need to compeletely rebuild the model."
   ]
  },
  {
   "cell_type": "code",
   "execution_count": 11,
   "metadata": {},
   "outputs": [],
   "source": [
    "checkpoint = {'input_size': 784,\n",
    "              'output_size': 10,\n",
    "              'hidden_layers': [each.out_features for each in model.hidden_layers],\n",
    "              'state_dict': model.state_dict()}\n",
    "\n",
    "torch.save(checkpoint, 'checkpoint.pth')"
   ]
  },
  {
   "cell_type": "markdown",
   "metadata": {},
   "source": [
    "Now the checkpoint has all the necessary information to rebuild the trained model. You can easily make that a function if you want. Similarly, we can write a function to load checkpoints. "
   ]
  },
  {
   "cell_type": "code",
   "execution_count": 12,
   "metadata": {},
   "outputs": [],
   "source": [
    "def load_checkpoint(filepath):\n",
    "    checkpoint = torch.load(filepath)\n",
    "    model = fc_model.Network(checkpoint['input_size'],\n",
    "                             checkpoint['output_size'],\n",
    "                             checkpoint['hidden_layers'])\n",
    "    model.load_state_dict(checkpoint['state_dict'])\n",
    "    \n",
    "    return model"
   ]
  },
  {
   "cell_type": "code",
   "execution_count": 13,
   "metadata": {},
   "outputs": [
    {
     "name": "stdout",
     "output_type": "stream",
     "text": [
      "Network(\n",
      "  (hidden_layers): ModuleList(\n",
      "    (0): Linear(in_features=784, out_features=400, bias=True)\n",
      "    (1): Linear(in_features=400, out_features=200, bias=True)\n",
      "    (2): Linear(in_features=200, out_features=100, bias=True)\n",
      "  )\n",
      "  (output): Linear(in_features=100, out_features=10, bias=True)\n",
      "  (dropout): Dropout(p=0.5)\n",
      ")\n"
     ]
    }
   ],
   "source": [
    "model = load_checkpoint('checkpoint.pth')\n",
    "print(model)"
   ]
  },
  {
   "cell_type": "code",
   "execution_count": null,
   "metadata": {},
   "outputs": [],
   "source": []
  }
 ],
 "metadata": {
  "kernelspec": {
   "display_name": "Python 3",
   "language": "python",
   "name": "python3"
  },
  "language_info": {
   "codemirror_mode": {
    "name": "ipython",
    "version": 3
   },
   "file_extension": ".py",
   "mimetype": "text/x-python",
   "name": "python",
   "nbconvert_exporter": "python",
   "pygments_lexer": "ipython3",
   "version": "3.6.8"
  }
 },
 "nbformat": 4,
 "nbformat_minor": 2
}
