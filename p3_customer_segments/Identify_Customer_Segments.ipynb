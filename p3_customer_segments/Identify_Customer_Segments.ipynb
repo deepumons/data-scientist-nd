{
 "cells": [
  {
   "cell_type": "markdown",
   "metadata": {},
   "source": [
    "# Project: Identify Customer Segments\n",
    "\n",
    "In this project, you will apply unsupervised learning techniques to identify segments of the population that form the core customer base for a mail-order sales company in Germany. These segments can then be used to direct marketing campaigns towards audiences that will have the highest expected rate of returns. The data that you will use has been provided by our partners at Bertelsmann Arvato Analytics, and represents a real-life data science task.\n",
    "\n",
    "This notebook will help you complete this task by providing a framework within which you will perform your analysis steps. In each step of the project, you will see some text describing the subtask that you will perform, followed by one or more code cells for you to complete your work. **Feel free to add additional code and markdown cells as you go along so that you can explore everything in precise chunks.** The code cells provided in the base template will outline only the major tasks, and will usually not be enough to cover all of the minor tasks that comprise it.\n",
    "\n",
    "It should be noted that while there will be precise guidelines on how you should handle certain tasks in the project, there will also be places where an exact specification is not provided. **There will be times in the project where you will need to make and justify your own decisions on how to treat the data.** These are places where there may not be only one way to handle the data. In real-life tasks, there may be many valid ways to approach an analysis task. One of the most important things you can do is clearly document your approach so that other scientists can understand the decisions you've made.\n",
    "\n",
    "At the end of most sections, there will be a Markdown cell labeled **Discussion**. In these cells, you will report your findings for the completed section, as well as document the decisions that you made in your approach to each subtask. **Your project will be evaluated not just on the code used to complete the tasks outlined, but also your communication about your observations and conclusions at each stage.**"
   ]
  },
  {
   "cell_type": "code",
   "execution_count": 1,
   "metadata": {},
   "outputs": [],
   "source": [
    "# import libraries here; add more as necessary\n",
    "import numpy as np\n",
    "import pandas as pd\n",
    "import matplotlib.pyplot as plt\n",
    "import seaborn as sns\n",
    "\n",
    "# magic word for producing visualizations in notebook\n",
    "%matplotlib inline"
   ]
  },
  {
   "cell_type": "markdown",
   "metadata": {},
   "source": [
    "### Step 0: Load the Data\n",
    "\n",
    "There are four files associated with this project (not including this one):\n",
    "\n",
    "- `Udacity_AZDIAS_Subset.csv`: Demographics data for the general population of Germany; 891211 persons (rows) x 85 features (columns).\n",
    "- `Udacity_CUSTOMERS_Subset.csv`: Demographics data for customers of a mail-order company; 191652 persons (rows) x 85 features (columns).\n",
    "- `Data_Dictionary.md`: Detailed information file about the features in the provided datasets.\n",
    "- `AZDIAS_Feature_Summary.csv`: Summary of feature attributes for demographics data; 85 features (rows) x 4 columns\n",
    "\n",
    "Each row of the demographics files represents a single person, but also includes information outside of individuals, including information about their household, building, and neighborhood. You will use this information to cluster the general population into groups with similar demographic properties. Then, you will see how the people in the customers dataset fit into those created clusters. The hope here is that certain clusters are over-represented in the customers data, as compared to the general population; those over-represented clusters will be assumed to be part of the core userbase. This information can then be used for further applications, such as targeting for a marketing campaign.\n",
    "\n",
    "To start off with, load in the demographics data for the general population into a pandas DataFrame, and do the same for the feature attributes summary. Note for all of the `.csv` data files in this project: they're semicolon (`;`) delimited, so you'll need an additional argument in your [`read_csv()`](https://pandas.pydata.org/pandas-docs/stable/generated/pandas.read_csv.html) call to read in the data properly. Also, considering the size of the main dataset, it may take some time for it to load completely.\n",
    "\n",
    "Once the dataset is loaded, it's recommended that you take a little bit of time just browsing the general structure of the dataset and feature summary file. You'll be getting deep into the innards of the cleaning in the first major step of the project, so gaining some general familiarity can help you get your bearings."
   ]
  },
  {
   "cell_type": "code",
   "execution_count": 2,
   "metadata": {},
   "outputs": [],
   "source": [
    "# Load in the general demographics data.\n",
    "azdias = pd.read_csv(filepath_or_buffer='Udacity_AZDIAS_Subset.csv', delimiter=\";\")\n",
    "\n",
    "# Load in the feature summary file.\n",
    "feat_info = pd.read_csv(filepath_or_buffer='AZDIAS_Feature_Summary.csv', delimiter=\";\")"
   ]
  },
  {
   "cell_type": "code",
   "execution_count": 3,
   "metadata": {},
   "outputs": [
    {
     "name": "stdout",
     "output_type": "stream",
     "text": [
      "(891221, 85)\n"
     ]
    },
    {
     "data": {
      "text/html": [
       "<div>\n",
       "<style scoped>\n",
       "    .dataframe tbody tr th:only-of-type {\n",
       "        vertical-align: middle;\n",
       "    }\n",
       "\n",
       "    .dataframe tbody tr th {\n",
       "        vertical-align: top;\n",
       "    }\n",
       "\n",
       "    .dataframe thead th {\n",
       "        text-align: right;\n",
       "    }\n",
       "</style>\n",
       "<table border=\"1\" class=\"dataframe\">\n",
       "  <thead>\n",
       "    <tr style=\"text-align: right;\">\n",
       "      <th></th>\n",
       "      <th>AGER_TYP</th>\n",
       "      <th>ALTERSKATEGORIE_GROB</th>\n",
       "      <th>ANREDE_KZ</th>\n",
       "      <th>CJT_GESAMTTYP</th>\n",
       "      <th>FINANZ_MINIMALIST</th>\n",
       "      <th>FINANZ_SPARER</th>\n",
       "      <th>FINANZ_VORSORGER</th>\n",
       "      <th>FINANZ_ANLEGER</th>\n",
       "      <th>FINANZ_UNAUFFAELLIGER</th>\n",
       "      <th>FINANZ_HAUSBAUER</th>\n",
       "      <th>...</th>\n",
       "      <th>PLZ8_ANTG1</th>\n",
       "      <th>PLZ8_ANTG2</th>\n",
       "      <th>PLZ8_ANTG3</th>\n",
       "      <th>PLZ8_ANTG4</th>\n",
       "      <th>PLZ8_BAUMAX</th>\n",
       "      <th>PLZ8_HHZ</th>\n",
       "      <th>PLZ8_GBZ</th>\n",
       "      <th>ARBEIT</th>\n",
       "      <th>ORTSGR_KLS9</th>\n",
       "      <th>RELAT_AB</th>\n",
       "    </tr>\n",
       "  </thead>\n",
       "  <tbody>\n",
       "    <tr>\n",
       "      <th>0</th>\n",
       "      <td>-1</td>\n",
       "      <td>2</td>\n",
       "      <td>1</td>\n",
       "      <td>2.0</td>\n",
       "      <td>3</td>\n",
       "      <td>4</td>\n",
       "      <td>3</td>\n",
       "      <td>5</td>\n",
       "      <td>5</td>\n",
       "      <td>3</td>\n",
       "      <td>...</td>\n",
       "      <td>NaN</td>\n",
       "      <td>NaN</td>\n",
       "      <td>NaN</td>\n",
       "      <td>NaN</td>\n",
       "      <td>NaN</td>\n",
       "      <td>NaN</td>\n",
       "      <td>NaN</td>\n",
       "      <td>NaN</td>\n",
       "      <td>NaN</td>\n",
       "      <td>NaN</td>\n",
       "    </tr>\n",
       "    <tr>\n",
       "      <th>1</th>\n",
       "      <td>-1</td>\n",
       "      <td>1</td>\n",
       "      <td>2</td>\n",
       "      <td>5.0</td>\n",
       "      <td>1</td>\n",
       "      <td>5</td>\n",
       "      <td>2</td>\n",
       "      <td>5</td>\n",
       "      <td>4</td>\n",
       "      <td>5</td>\n",
       "      <td>...</td>\n",
       "      <td>2.0</td>\n",
       "      <td>3.0</td>\n",
       "      <td>2.0</td>\n",
       "      <td>1.0</td>\n",
       "      <td>1.0</td>\n",
       "      <td>5.0</td>\n",
       "      <td>4.0</td>\n",
       "      <td>3.0</td>\n",
       "      <td>5.0</td>\n",
       "      <td>4.0</td>\n",
       "    </tr>\n",
       "    <tr>\n",
       "      <th>2</th>\n",
       "      <td>-1</td>\n",
       "      <td>3</td>\n",
       "      <td>2</td>\n",
       "      <td>3.0</td>\n",
       "      <td>1</td>\n",
       "      <td>4</td>\n",
       "      <td>1</td>\n",
       "      <td>2</td>\n",
       "      <td>3</td>\n",
       "      <td>5</td>\n",
       "      <td>...</td>\n",
       "      <td>3.0</td>\n",
       "      <td>3.0</td>\n",
       "      <td>1.0</td>\n",
       "      <td>0.0</td>\n",
       "      <td>1.0</td>\n",
       "      <td>4.0</td>\n",
       "      <td>4.0</td>\n",
       "      <td>3.0</td>\n",
       "      <td>5.0</td>\n",
       "      <td>2.0</td>\n",
       "    </tr>\n",
       "    <tr>\n",
       "      <th>3</th>\n",
       "      <td>2</td>\n",
       "      <td>4</td>\n",
       "      <td>2</td>\n",
       "      <td>2.0</td>\n",
       "      <td>4</td>\n",
       "      <td>2</td>\n",
       "      <td>5</td>\n",
       "      <td>2</td>\n",
       "      <td>1</td>\n",
       "      <td>2</td>\n",
       "      <td>...</td>\n",
       "      <td>2.0</td>\n",
       "      <td>2.0</td>\n",
       "      <td>2.0</td>\n",
       "      <td>0.0</td>\n",
       "      <td>1.0</td>\n",
       "      <td>3.0</td>\n",
       "      <td>4.0</td>\n",
       "      <td>2.0</td>\n",
       "      <td>3.0</td>\n",
       "      <td>3.0</td>\n",
       "    </tr>\n",
       "    <tr>\n",
       "      <th>4</th>\n",
       "      <td>-1</td>\n",
       "      <td>3</td>\n",
       "      <td>1</td>\n",
       "      <td>5.0</td>\n",
       "      <td>4</td>\n",
       "      <td>3</td>\n",
       "      <td>4</td>\n",
       "      <td>1</td>\n",
       "      <td>3</td>\n",
       "      <td>2</td>\n",
       "      <td>...</td>\n",
       "      <td>2.0</td>\n",
       "      <td>4.0</td>\n",
       "      <td>2.0</td>\n",
       "      <td>1.0</td>\n",
       "      <td>2.0</td>\n",
       "      <td>3.0</td>\n",
       "      <td>3.0</td>\n",
       "      <td>4.0</td>\n",
       "      <td>6.0</td>\n",
       "      <td>5.0</td>\n",
       "    </tr>\n",
       "  </tbody>\n",
       "</table>\n",
       "<p>5 rows × 85 columns</p>\n",
       "</div>"
      ],
      "text/plain": [
       "   AGER_TYP  ALTERSKATEGORIE_GROB  ANREDE_KZ  CJT_GESAMTTYP  \\\n",
       "0        -1                     2          1            2.0   \n",
       "1        -1                     1          2            5.0   \n",
       "2        -1                     3          2            3.0   \n",
       "3         2                     4          2            2.0   \n",
       "4        -1                     3          1            5.0   \n",
       "\n",
       "   FINANZ_MINIMALIST  FINANZ_SPARER  FINANZ_VORSORGER  FINANZ_ANLEGER  \\\n",
       "0                  3              4                 3               5   \n",
       "1                  1              5                 2               5   \n",
       "2                  1              4                 1               2   \n",
       "3                  4              2                 5               2   \n",
       "4                  4              3                 4               1   \n",
       "\n",
       "   FINANZ_UNAUFFAELLIGER  FINANZ_HAUSBAUER  ...  PLZ8_ANTG1  PLZ8_ANTG2  \\\n",
       "0                      5                 3  ...         NaN         NaN   \n",
       "1                      4                 5  ...         2.0         3.0   \n",
       "2                      3                 5  ...         3.0         3.0   \n",
       "3                      1                 2  ...         2.0         2.0   \n",
       "4                      3                 2  ...         2.0         4.0   \n",
       "\n",
       "   PLZ8_ANTG3  PLZ8_ANTG4  PLZ8_BAUMAX  PLZ8_HHZ  PLZ8_GBZ  ARBEIT  \\\n",
       "0         NaN         NaN          NaN       NaN       NaN     NaN   \n",
       "1         2.0         1.0          1.0       5.0       4.0     3.0   \n",
       "2         1.0         0.0          1.0       4.0       4.0     3.0   \n",
       "3         2.0         0.0          1.0       3.0       4.0     2.0   \n",
       "4         2.0         1.0          2.0       3.0       3.0     4.0   \n",
       "\n",
       "   ORTSGR_KLS9  RELAT_AB  \n",
       "0          NaN       NaN  \n",
       "1          5.0       4.0  \n",
       "2          5.0       2.0  \n",
       "3          3.0       3.0  \n",
       "4          6.0       5.0  \n",
       "\n",
       "[5 rows x 85 columns]"
      ]
     },
     "execution_count": 3,
     "metadata": {},
     "output_type": "execute_result"
    }
   ],
   "source": [
    "# Check the structure of the data after it's loaded (e.g. print the number of\n",
    "# rows and columns, print the first few rows).\n",
    "print(azdias.shape)\n",
    "azdias.head(5)"
   ]
  },
  {
   "cell_type": "code",
   "execution_count": 4,
   "metadata": {},
   "outputs": [
    {
     "name": "stdout",
     "output_type": "stream",
     "text": [
      "(85, 4)\n"
     ]
    },
    {
     "data": {
      "text/html": [
       "<div>\n",
       "<style scoped>\n",
       "    .dataframe tbody tr th:only-of-type {\n",
       "        vertical-align: middle;\n",
       "    }\n",
       "\n",
       "    .dataframe tbody tr th {\n",
       "        vertical-align: top;\n",
       "    }\n",
       "\n",
       "    .dataframe thead th {\n",
       "        text-align: right;\n",
       "    }\n",
       "</style>\n",
       "<table border=\"1\" class=\"dataframe\">\n",
       "  <thead>\n",
       "    <tr style=\"text-align: right;\">\n",
       "      <th></th>\n",
       "      <th>attribute</th>\n",
       "      <th>information_level</th>\n",
       "      <th>type</th>\n",
       "      <th>missing_or_unknown</th>\n",
       "    </tr>\n",
       "  </thead>\n",
       "  <tbody>\n",
       "    <tr>\n",
       "      <th>0</th>\n",
       "      <td>AGER_TYP</td>\n",
       "      <td>person</td>\n",
       "      <td>categorical</td>\n",
       "      <td>[-1,0]</td>\n",
       "    </tr>\n",
       "    <tr>\n",
       "      <th>1</th>\n",
       "      <td>ALTERSKATEGORIE_GROB</td>\n",
       "      <td>person</td>\n",
       "      <td>ordinal</td>\n",
       "      <td>[-1,0,9]</td>\n",
       "    </tr>\n",
       "    <tr>\n",
       "      <th>2</th>\n",
       "      <td>ANREDE_KZ</td>\n",
       "      <td>person</td>\n",
       "      <td>categorical</td>\n",
       "      <td>[-1,0]</td>\n",
       "    </tr>\n",
       "    <tr>\n",
       "      <th>3</th>\n",
       "      <td>CJT_GESAMTTYP</td>\n",
       "      <td>person</td>\n",
       "      <td>categorical</td>\n",
       "      <td>[0]</td>\n",
       "    </tr>\n",
       "    <tr>\n",
       "      <th>4</th>\n",
       "      <td>FINANZ_MINIMALIST</td>\n",
       "      <td>person</td>\n",
       "      <td>ordinal</td>\n",
       "      <td>[-1]</td>\n",
       "    </tr>\n",
       "  </tbody>\n",
       "</table>\n",
       "</div>"
      ],
      "text/plain": [
       "              attribute information_level         type missing_or_unknown\n",
       "0              AGER_TYP            person  categorical             [-1,0]\n",
       "1  ALTERSKATEGORIE_GROB            person      ordinal           [-1,0,9]\n",
       "2             ANREDE_KZ            person  categorical             [-1,0]\n",
       "3         CJT_GESAMTTYP            person  categorical                [0]\n",
       "4     FINANZ_MINIMALIST            person      ordinal               [-1]"
      ]
     },
     "execution_count": 4,
     "metadata": {},
     "output_type": "execute_result"
    }
   ],
   "source": [
    "print(feat_info.shape)\n",
    "feat_info.head(5)"
   ]
  },
  {
   "cell_type": "markdown",
   "metadata": {},
   "source": [
    "> **Tip**: Add additional cells to keep everything in reasonably-sized chunks! Keyboard shortcut `esc --> a` (press escape to enter command mode, then press the 'A' key) adds a new cell before the active cell, and `esc --> b` adds a new cell after the active cell. If you need to convert an active cell to a markdown cell, use `esc --> m` and to convert to a code cell, use `esc --> y`. \n",
    "\n",
    "## Step 1: Preprocessing\n",
    "\n",
    "### Step 1.1: Assess Missing Data\n",
    "\n",
    "The feature summary file contains a summary of properties for each demographics data column. You will use this file to help you make cleaning decisions during this stage of the project. First of all, you should assess the demographics data in terms of missing data. Pay attention to the following points as you perform your analysis, and take notes on what you observe. Make sure that you fill in the **Discussion** cell with your findings and decisions at the end of each step that has one!\n",
    "\n",
    "#### Step 1.1.1: Convert Missing Value Codes to NaNs\n",
    "The fourth column of the feature attributes summary (loaded in above as `feat_info`) documents the codes from the data dictionary that indicate missing or unknown data. While the file encodes this as a list (e.g. `[-1,0]`), this will get read in as a string object. You'll need to do a little bit of parsing to make use of it to identify and clean the data. Convert data that matches a 'missing' or 'unknown' value code into a numpy NaN value. You might want to see how much data takes on a 'missing' or 'unknown' code, and how much data is naturally missing, as a point of interest.\n",
    "\n",
    "**As one more reminder, you are encouraged to add additional cells to break up your analysis into manageable chunks.**"
   ]
  },
  {
   "cell_type": "code",
   "execution_count": 5,
   "metadata": {},
   "outputs": [],
   "source": [
    "# Get the count of null values for each column\n",
    "#azdias.isnull().sum()"
   ]
  },
  {
   "cell_type": "code",
   "execution_count": 3,
   "metadata": {},
   "outputs": [],
   "source": [
    "# Identify missing or unknown data values and convert them to NaNs.\n",
    "\n",
    "for index, rows in feat_info.iterrows():\n",
    "    feature_name = feat_info.iloc[index, 0]\n",
    "    missing_or_unknown = feat_info.iloc[index, 3]\n",
    "    missing_or_unknown = missing_or_unknown.replace('[', '').replace(']', '').replace(',', ' ')\n",
    "    list_missing_or_unknown = list(missing_or_unknown.split(' '))\n",
    "    \n",
    "    azdias.loc[azdias[feature_name].isin(list_missing_or_unknown), feature_name] = np.nan    \n",
    "          \n",
    "    #print(f\"Done processing NaNs for {feature_name}\")\n",
    "    #break"
   ]
  },
  {
   "cell_type": "markdown",
   "metadata": {},
   "source": [
    "#### Step 1.1.2: Assess Missing Data in Each Column\n",
    "\n",
    "How much missing data is present in each column? There are a few columns that are outliers in terms of the proportion of values that are missing. You will want to use matplotlib's [`hist()`](https://matplotlib.org/api/_as_gen/matplotlib.pyplot.hist.html) function to visualize the distribution of missing value counts to find these columns. Identify and document these columns. While some of these columns might have justifications for keeping or re-encoding the data, for this project you should just remove them from the dataframe. (Feel free to make remarks about these outlier columns in the discussion, however!)\n",
    "\n",
    "For the remaining features, are there any patterns in which columns have, or share, missing data?"
   ]
  },
  {
   "cell_type": "code",
   "execution_count": 7,
   "metadata": {},
   "outputs": [
    {
     "data": {
      "image/png": "[encoded data removed]",
      "text/plain": [
       "<Figure size 1080x504 with 1 Axes>"
      ]
     },
     "metadata": {
      "needs_background": "light"
     },
     "output_type": "display_data"
    }
   ],
   "source": [
    "# Perform an assessment of how much missing data there is in each column of the\n",
    "# dataset.\n",
    "total_rows = azdias.shape[0]\n",
    "features_nan_proportion = (azdias.isnull().sum())/total_rows\n",
    "\n",
    "names = features_nan_proportion.index.tolist()\n",
    "values = features_nan_proportion.values\n",
    "\n",
    "plt.figure(1, figsize=(15, 7))\n",
    "plt.bar(names, values)\n",
    "plt.show()"
   ]
  },
  {
   "cell_type": "code",
   "execution_count": 8,
   "metadata": {},
   "outputs": [
    {
     "name": "stdout",
     "output_type": "stream",
     "text": [
      "AGER_TYP        0.769554\n",
      "GEBURTSJAHR     0.440203\n",
      "TITEL_KZ        0.997576\n",
      "ALTER_HH        0.348137\n",
      "KK_KUNDENTYP    0.655967\n",
      "KBA05_BAUMAX    0.534687\n",
      "dtype: float64\n"
     ]
    }
   ],
   "source": [
    "# Investigate patterns in the amount of missing data in each column.\n",
    "\n",
    "# Get the list of features that has 80% NaN values or higher\n",
    "print(features_nan_proportion[features_nan_proportion.values > 0.2])"
   ]
  },
  {
   "cell_type": "code",
   "execution_count": 4,
   "metadata": {},
   "outputs": [],
   "source": [
    "# Remove the outlier columns from the dataset. (You'll perform other data\n",
    "# engineering tasks such as re-encoding and imputation later.)\n",
    "azdias.drop(['AGER_TYP', 'GEBURTSJAHR', 'TITEL_KZ', 'ALTER_HH', 'KK_KUNDENTYP', 'KBA05_BAUMAX'], axis=1, inplace=True)"
   ]
  },
  {
   "cell_type": "markdown",
   "metadata": {},
   "source": [
    "#### Discussion 1.1.2: Assess Missing Data in Each Column\n",
    "\n",
    "**Q. Are there any patterns in missing values?**\n",
    "\n",
    "1. When you plot the features against their count of NaN values, we can observe that most of the columns (that has NaN values) have NaN's in the range of 20% of lower.\n",
    "\n",
    "2. The number of NaNs among some of the features was exactly the same. For example:\n",
    "\n",
    "CAMEO_DEUG_2015           98979\n",
    "CAMEO_DEU_2015            98979\n",
    "CAMEO_INTL_2015           98979\n",
    "\n",
    "This makes sense as all of these features relates to the current life stage of the individual in varying detail. There are more examples of other features with same exact number of NaNs, denoting similar features in the data set. \n",
    "\n",
    "**Q. Which columns were removed from the dataset?)**\n",
    "\n",
    "We then ran a query to get the list of columns that has NaN values more than 20%, which returned the following 6 features:\n",
    "\n",
    "'AGER_TYP', 'GEBURTSJAHR', 'TITEL_KZ', 'ALTER_HH', 'KK_KUNDENTYP', 'KBA05_BAUMAX'\n",
    "\n",
    "These columns were dropped from the dataframe."
   ]
  },
  {
   "cell_type": "markdown",
   "metadata": {},
   "source": [
    "#### Step 1.1.3: Assess Missing Data in Each Row\n",
    "\n",
    "Now, you'll perform a similar assessment for the rows of the dataset. How much data is missing in each row? As with the columns, you should see some groups of points that have a very different numbers of missing values. Divide the data into two subsets: one for data points that are above some threshold for missing values, and a second subset for points below that threshold.\n",
    "\n",
    "In order to know what to do with the outlier rows, we should see if the distribution of data values on columns that are not missing data (or are missing very little data) are similar or different between the two groups. Select at least five of these columns and compare the distribution of values.\n",
    "- You can use seaborn's [`countplot()`](https://seaborn.pydata.org/generated/seaborn.countplot.html) function to create a bar chart of code frequencies and matplotlib's [`subplot()`](https://matplotlib.org/api/_as_gen/matplotlib.pyplot.subplot.html) function to put bar charts for the two subplots side by side.\n",
    "- To reduce repeated code, you might want to write a function that can perform this comparison, taking as one of its arguments a column to be compared.\n",
    "\n",
    "Depending on what you observe in your comparison, this will have implications on how you approach your conclusions later in the analysis. If the distributions of non-missing features look similar between the data with many missing values and the data with few or no missing values, then we could argue that simply dropping those points from the analysis won't present a major issue. On the other hand, if the data with many missing values looks very different from the data with few or no missing values, then we should make a note on those data as special. We'll revisit these data later on. **Either way, you should continue your analysis for now using just the subset of the data with few or no missing values.**"
   ]
  },
  {
   "cell_type": "code",
   "execution_count": 10,
   "metadata": {},
   "outputs": [
    {
     "data": {
      "text/plain": [
       "(array([6.97109e+05, 7.76340e+04, 1.28010e+04, 9.53300e+03, 8.29000e+02,\n",
       "        1.55000e+02, 1.40160e+04, 5.03100e+03, 2.80380e+04, 4.60750e+04]),\n",
       " array([ 0. ,  4.9,  9.8, 14.7, 19.6, 24.5, 29.4, 34.3, 39.2, 44.1, 49. ]),\n",
       " <a list of 10 Patch objects>)"
      ]
     },
     "execution_count": 10,
     "metadata": {},
     "output_type": "execute_result"
    },
    {
     "data": {
      "image/png": "[encoded data removed]",
      "text/plain": [
       "<Figure size 432x288 with 1 Axes>"
      ]
     },
     "metadata": {
      "needs_background": "light"
     },
     "output_type": "display_data"
    }
   ],
   "source": [
    "# How much data is missing in each row of the dataset?\n",
    "\n",
    "rows_nan = azdias.isnull().sum(axis=1)\n",
    "plt.hist(rows_nan)"
   ]
  },
  {
   "cell_type": "code",
   "execution_count": 5,
   "metadata": {},
   "outputs": [
    {
     "name": "stdout",
     "output_type": "stream",
     "text": [
      "(797426, 79)\n",
      "(93795, 79)\n"
     ]
    }
   ],
   "source": [
    "# Write code to divide the data into two subsets based on the number of missing\n",
    "# values in each row.\n",
    "\n",
    "azdias1 = azdias[azdias.isnull().sum(axis=1) <= 20]\n",
    "print(azdias1.shape)\n",
    "azdias2 = azdias[azdias.isnull().sum(axis=1) > 20]\n",
    "print(azdias2.shape)"
   ]
  },
  {
   "cell_type": "code",
   "execution_count": 12,
   "metadata": {},
   "outputs": [],
   "source": [
    "# Compare the distribution of values for at least five columns where there are\n",
    "# no or few missing values, between the two subsets.\n",
    "\n",
    "# Plot function that plots a single feature on two azdias samples\n",
    "\n",
    "def plot_feature_comparison(feature_name):\n",
    "\n",
    "    fig1 = plt.figure()\n",
    "    ax1 = fig1.add_subplot(211)\n",
    "    ax1.hist(azdias1[feature_name])\n",
    "    ax2 = fig1.add_subplot(212)\n",
    "    ax2.hist(azdias2[feature_name])\n",
    "    plt.show()"
   ]
  },
  {
   "cell_type": "code",
   "execution_count": 13,
   "metadata": {},
   "outputs": [
    {
     "name": "stderr",
     "output_type": "stream",
     "text": [
      "C:\\Users\\urdee\\Anaconda3\\lib\\site-packages\\numpy\\lib\\histograms.py:824: RuntimeWarning: invalid value encountered in greater_equal\n",
      "  keep = (tmp_a >= first_edge)\n",
      "C:\\Users\\urdee\\Anaconda3\\lib\\site-packages\\numpy\\lib\\histograms.py:825: RuntimeWarning: invalid value encountered in less_equal\n",
      "  keep &= (tmp_a <= last_edge)\n"
     ]
    },
    {
     "data": {
      "image/png": "[encoded data removed]",
      "text/plain": [
       "<Figure size 432x288 with 2 Axes>"
      ]
     },
     "metadata": {
      "needs_background": "light"
     },
     "output_type": "display_data"
    }
   ],
   "source": [
    "# Plot for feature #1 ALTERSKATEGORIE_GROB\n",
    "\n",
    "plot_feature_comparison('ALTERSKATEGORIE_GROB')"
   ]
  },
  {
   "cell_type": "code",
   "execution_count": 14,
   "metadata": {},
   "outputs": [
    {
     "data": {
      "image/png": "[encoded data removed]",
      "text/plain": [
       "<Figure size 432x288 with 2 Axes>"
      ]
     },
     "metadata": {
      "needs_background": "light"
     },
     "output_type": "display_data"
    }
   ],
   "source": [
    "# Plot for feature #2 FINANZ_MINIMALIST\n",
    "\n",
    "plot_feature_comparison('FINANZ_MINIMALIST')"
   ]
  },
  {
   "cell_type": "code",
   "execution_count": 15,
   "metadata": {},
   "outputs": [
    {
     "data": {
      "image/png": "[encoded data removed]",
      "text/plain": [
       "<Figure size 432x288 with 2 Axes>"
      ]
     },
     "metadata": {
      "needs_background": "light"
     },
     "output_type": "display_data"
    }
   ],
   "source": [
    "# Plot for feature #3 GREEN_AVANTGARDE\n",
    "\n",
    "plot_feature_comparison('GREEN_AVANTGARDE')"
   ]
  },
  {
   "cell_type": "code",
   "execution_count": 16,
   "metadata": {},
   "outputs": [
    {
     "data": {
      "image/png": "[encoded data removed]",
      "text/plain": [
       "<Figure size 432x288 with 2 Axes>"
      ]
     },
     "metadata": {
      "needs_background": "light"
     },
     "output_type": "display_data"
    }
   ],
   "source": [
    "# Plot for feature #4 PRAEGENDE_JUGENDJAHRE\n",
    "\n",
    "plot_feature_comparison('PRAEGENDE_JUGENDJAHRE')"
   ]
  },
  {
   "cell_type": "code",
   "execution_count": 17,
   "metadata": {},
   "outputs": [
    {
     "data": {
      "image/png": "[encoded data removed]",
      "text/plain": [
       "<Figure size 432x288 with 2 Axes>"
      ]
     },
     "metadata": {
      "needs_background": "light"
     },
     "output_type": "display_data"
    }
   ],
   "source": [
    "# Plot for feature #5 SEMIO_SOZ\n",
    "\n",
    "plot_feature_comparison('SEMIO_SOZ')"
   ]
  },
  {
   "cell_type": "markdown",
   "metadata": {},
   "source": [
    "#### Discussion 1.1.3: Assess Missing Data in Each Row\n",
    "\n",
    "**Q. Are the data with lots of missing values are qualitatively different from data with few or no missing values?**\n",
    "\n",
    "Yes. From the plots above, we can observe that most of the feature attributes represented are much smaller, when compared with the azdias1 sample, which has no NaN values. This was true for all features excpet for ALTERSKATEGORIE_GROB feature. Therefore, it is prudent to retain those rows.\n",
    "\n",
    "However, it is to be noted that roughly 90% of the rows has NaN's less than 20, so it makes sense to keep only this statistically significant data to perform further operations."
   ]
  },
  {
   "cell_type": "code",
   "execution_count": 6,
   "metadata": {},
   "outputs": [
    {
     "data": {
      "text/plain": [
       "(797426, 79)"
      ]
     },
     "execution_count": 6,
     "metadata": {},
     "output_type": "execute_result"
    }
   ],
   "source": [
    "# We are taking only rows with NaN's less than 20 for further operations\n",
    "azdias = azdias1.copy()\n",
    "azdias.shape"
   ]
  },
  {
   "cell_type": "markdown",
   "metadata": {},
   "source": [
    "### Step 1.2: Select and Re-Encode Features\n",
    "\n",
    "Checking for missing data isn't the only way in which you can prepare a dataset for analysis. Since the unsupervised learning techniques to be used will only work on data that is encoded numerically, you need to make a few encoding changes or additional assumptions to be able to make progress. In addition, while almost all of the values in the dataset are encoded using numbers, not all of them represent numeric values. Check the third column of the feature summary (`feat_info`) for a summary of types of measurement.\n",
    "- For numeric and interval data, these features can be kept without changes.\n",
    "- Most of the variables in the dataset are ordinal in nature. While ordinal values may technically be non-linear in spacing, make the simplifying assumption that the ordinal variables can be treated as being interval in nature (that is, kept without any changes).\n",
    "- Special handling may be necessary for the remaining two variable types: categorical, and 'mixed'.\n",
    "\n",
    "In the first two parts of this sub-step, you will perform an investigation of the categorical and mixed-type features and make a decision on each of them, whether you will keep, drop, or re-encode each. Then, in the last part, you will create a new data frame with only the selected and engineered columns.\n",
    "\n",
    "Data wrangling is often the trickiest part of the data analysis process, and there's a lot of it to be done here. But stick with it: once you're done with this step, you'll be ready to get to the machine learning parts of the project!"
   ]
  },
  {
   "cell_type": "code",
   "execution_count": 19,
   "metadata": {},
   "outputs": [
    {
     "data": {
      "text/plain": [
       "type\n",
       "categorical    21\n",
       "interval        1\n",
       "mixed           7\n",
       "numeric         7\n",
       "ordinal        49\n",
       "Name: attribute, dtype: int64"
      ]
     },
     "execution_count": 19,
     "metadata": {},
     "output_type": "execute_result"
    }
   ],
   "source": [
    "# How many features are there of each data type?\n",
    "\n",
    "feat_info.groupby(['type'])['attribute'].count()"
   ]
  },
  {
   "cell_type": "markdown",
   "metadata": {},
   "source": [
    "#### Step 1.2.1: Re-Encode Categorical Features\n",
    "\n",
    "For categorical data, you would ordinarily need to encode the levels as dummy variables. Depending on the number of categories, perform one of the following:\n",
    "- For binary (two-level) categoricals that take numeric values, you can keep them without needing to do anything.\n",
    "- There is one binary variable that takes on non-numeric values. For this one, you need to re-encode the values as numbers or create a dummy variable.\n",
    "- For multi-level categoricals (three or more values), you can choose to encode the values using multiple dummy variables (e.g. via [OneHotEncoder](http://scikit-learn.org/stable/modules/generated/sklearn.preprocessing.OneHotEncoder.html)), or (to keep things straightforward) just drop them from the analysis. As always, document your choices in the Discussion section."
   ]
  },
  {
   "cell_type": "code",
   "execution_count": 20,
   "metadata": {},
   "outputs": [
    {
     "data": {
      "text/html": [
       "<div>\n",
       "<style scoped>\n",
       "    .dataframe tbody tr th:only-of-type {\n",
       "        vertical-align: middle;\n",
       "    }\n",
       "\n",
       "    .dataframe tbody tr th {\n",
       "        vertical-align: top;\n",
       "    }\n",
       "\n",
       "    .dataframe thead th {\n",
       "        text-align: right;\n",
       "    }\n",
       "</style>\n",
       "<table border=\"1\" class=\"dataframe\">\n",
       "  <thead>\n",
       "    <tr style=\"text-align: right;\">\n",
       "      <th></th>\n",
       "      <th>attribute</th>\n",
       "      <th>information_level</th>\n",
       "      <th>type</th>\n",
       "      <th>missing_or_unknown</th>\n",
       "    </tr>\n",
       "  </thead>\n",
       "  <tbody>\n",
       "    <tr>\n",
       "      <th>0</th>\n",
       "      <td>AGER_TYP</td>\n",
       "      <td>person</td>\n",
       "      <td>categorical</td>\n",
       "      <td>[-1,0]</td>\n",
       "    </tr>\n",
       "    <tr>\n",
       "      <th>2</th>\n",
       "      <td>ANREDE_KZ</td>\n",
       "      <td>person</td>\n",
       "      <td>categorical</td>\n",
       "      <td>[-1,0]</td>\n",
       "    </tr>\n",
       "    <tr>\n",
       "      <th>3</th>\n",
       "      <td>CJT_GESAMTTYP</td>\n",
       "      <td>person</td>\n",
       "      <td>categorical</td>\n",
       "      <td>[0]</td>\n",
       "    </tr>\n",
       "    <tr>\n",
       "      <th>10</th>\n",
       "      <td>FINANZTYP</td>\n",
       "      <td>person</td>\n",
       "      <td>categorical</td>\n",
       "      <td>[-1]</td>\n",
       "    </tr>\n",
       "    <tr>\n",
       "      <th>12</th>\n",
       "      <td>GFK_URLAUBERTYP</td>\n",
       "      <td>person</td>\n",
       "      <td>categorical</td>\n",
       "      <td>[]</td>\n",
       "    </tr>\n",
       "    <tr>\n",
       "      <th>13</th>\n",
       "      <td>GREEN_AVANTGARDE</td>\n",
       "      <td>person</td>\n",
       "      <td>categorical</td>\n",
       "      <td>[]</td>\n",
       "    </tr>\n",
       "    <tr>\n",
       "      <th>17</th>\n",
       "      <td>LP_FAMILIE_FEIN</td>\n",
       "      <td>person</td>\n",
       "      <td>categorical</td>\n",
       "      <td>[0]</td>\n",
       "    </tr>\n",
       "    <tr>\n",
       "      <th>18</th>\n",
       "      <td>LP_FAMILIE_GROB</td>\n",
       "      <td>person</td>\n",
       "      <td>categorical</td>\n",
       "      <td>[0]</td>\n",
       "    </tr>\n",
       "    <tr>\n",
       "      <th>19</th>\n",
       "      <td>LP_STATUS_FEIN</td>\n",
       "      <td>person</td>\n",
       "      <td>categorical</td>\n",
       "      <td>[0]</td>\n",
       "    </tr>\n",
       "    <tr>\n",
       "      <th>20</th>\n",
       "      <td>LP_STATUS_GROB</td>\n",
       "      <td>person</td>\n",
       "      <td>categorical</td>\n",
       "      <td>[0]</td>\n",
       "    </tr>\n",
       "    <tr>\n",
       "      <th>21</th>\n",
       "      <td>NATIONALITAET_KZ</td>\n",
       "      <td>person</td>\n",
       "      <td>categorical</td>\n",
       "      <td>[-1,0]</td>\n",
       "    </tr>\n",
       "    <tr>\n",
       "      <th>38</th>\n",
       "      <td>SHOPPER_TYP</td>\n",
       "      <td>person</td>\n",
       "      <td>categorical</td>\n",
       "      <td>[-1]</td>\n",
       "    </tr>\n",
       "    <tr>\n",
       "      <th>39</th>\n",
       "      <td>SOHO_KZ</td>\n",
       "      <td>person</td>\n",
       "      <td>categorical</td>\n",
       "      <td>[-1]</td>\n",
       "    </tr>\n",
       "    <tr>\n",
       "      <th>40</th>\n",
       "      <td>TITEL_KZ</td>\n",
       "      <td>person</td>\n",
       "      <td>categorical</td>\n",
       "      <td>[-1,0]</td>\n",
       "    </tr>\n",
       "    <tr>\n",
       "      <th>41</th>\n",
       "      <td>VERS_TYP</td>\n",
       "      <td>person</td>\n",
       "      <td>categorical</td>\n",
       "      <td>[-1]</td>\n",
       "    </tr>\n",
       "    <tr>\n",
       "      <th>42</th>\n",
       "      <td>ZABEOTYP</td>\n",
       "      <td>person</td>\n",
       "      <td>categorical</td>\n",
       "      <td>[-1,9]</td>\n",
       "    </tr>\n",
       "    <tr>\n",
       "      <th>47</th>\n",
       "      <td>KK_KUNDENTYP</td>\n",
       "      <td>household</td>\n",
       "      <td>categorical</td>\n",
       "      <td>[-1]</td>\n",
       "    </tr>\n",
       "    <tr>\n",
       "      <th>52</th>\n",
       "      <td>GEBAEUDETYP</td>\n",
       "      <td>building</td>\n",
       "      <td>categorical</td>\n",
       "      <td>[-1,0]</td>\n",
       "    </tr>\n",
       "    <tr>\n",
       "      <th>55</th>\n",
       "      <td>OST_WEST_KZ</td>\n",
       "      <td>building</td>\n",
       "      <td>categorical</td>\n",
       "      <td>[-1]</td>\n",
       "    </tr>\n",
       "    <tr>\n",
       "      <th>57</th>\n",
       "      <td>CAMEO_DEUG_2015</td>\n",
       "      <td>microcell_rr4</td>\n",
       "      <td>categorical</td>\n",
       "      <td>[-1,X]</td>\n",
       "    </tr>\n",
       "    <tr>\n",
       "      <th>58</th>\n",
       "      <td>CAMEO_DEU_2015</td>\n",
       "      <td>microcell_rr4</td>\n",
       "      <td>categorical</td>\n",
       "      <td>[XX]</td>\n",
       "    </tr>\n",
       "  </tbody>\n",
       "</table>\n",
       "</div>"
      ],
      "text/plain": [
       "           attribute information_level         type missing_or_unknown\n",
       "0           AGER_TYP            person  categorical             [-1,0]\n",
       "2          ANREDE_KZ            person  categorical             [-1,0]\n",
       "3      CJT_GESAMTTYP            person  categorical                [0]\n",
       "10         FINANZTYP            person  categorical               [-1]\n",
       "12   GFK_URLAUBERTYP            person  categorical                 []\n",
       "13  GREEN_AVANTGARDE            person  categorical                 []\n",
       "17   LP_FAMILIE_FEIN            person  categorical                [0]\n",
       "18   LP_FAMILIE_GROB            person  categorical                [0]\n",
       "19    LP_STATUS_FEIN            person  categorical                [0]\n",
       "20    LP_STATUS_GROB            person  categorical                [0]\n",
       "21  NATIONALITAET_KZ            person  categorical             [-1,0]\n",
       "38       SHOPPER_TYP            person  categorical               [-1]\n",
       "39           SOHO_KZ            person  categorical               [-1]\n",
       "40          TITEL_KZ            person  categorical             [-1,0]\n",
       "41          VERS_TYP            person  categorical               [-1]\n",
       "42          ZABEOTYP            person  categorical             [-1,9]\n",
       "47      KK_KUNDENTYP         household  categorical               [-1]\n",
       "52       GEBAEUDETYP          building  categorical             [-1,0]\n",
       "55       OST_WEST_KZ          building  categorical               [-1]\n",
       "57   CAMEO_DEUG_2015     microcell_rr4  categorical             [-1,X]\n",
       "58    CAMEO_DEU_2015     microcell_rr4  categorical               [XX]"
      ]
     },
     "execution_count": 20,
     "metadata": {},
     "output_type": "execute_result"
    }
   ],
   "source": [
    "# Assess categorical variables: which are binary, which are multi-level, and\n",
    "# which one needs to be re-encoded?\n",
    "\n",
    "feat_info[feat_info['type'] == 'categorical']"
   ]
  },
  {
   "cell_type": "code",
   "execution_count": 7,
   "metadata": {},
   "outputs": [],
   "source": [
    "# Re-encode categorical variable(s) to be kept in the analysis.\n",
    "\n",
    "# replace the non numeric values in OST_WEST_KZ feature\n",
    "\n",
    "d = {'O': 1, 'W': 2}\n",
    "\n",
    "azdias['OST_WEST_KZ'] = azdias['OST_WEST_KZ'].map(d)"
   ]
  },
  {
   "cell_type": "code",
   "execution_count": 8,
   "metadata": {},
   "outputs": [],
   "source": [
    "# Drop redundant columns from further analysis\n",
    "\n",
    "azdias.drop(['GFK_URLAUBERTYP', 'LP_FAMILIE_FEIN', 'LP_STATUS_FEIN', 'CAMEO_DEU_2015'], axis=1, inplace=True)\n",
    "azdias.drop(\"GEBAEUDETYP\", axis=1, inplace=True)"
   ]
  },
  {
   "attachments": {},
   "cell_type": "markdown",
   "metadata": {},
   "source": [
    "#### Discussion 1.2.1: Re-Encode Categorical Features\n",
    "\n",
    "**Q. Regarding categorical features, which ones did you keep, which did you drop, and what engineering steps did you perform?**\n",
    "\n",
    "There were 21 categorical features in the dataset.\n",
    "\n",
    "The following features were already removed during step 1.1.2 due to the presense of large number of NaN values.\n",
    "\n",
    "1. AGER_TYP\n",
    "2. TITEL_KZ\n",
    "3. KK_KUNDENTYP\n",
    "\n",
    "The following binary values were retained without making any changes:\n",
    "\n",
    "1. ANREDE_KZ\n",
    "2. GREEN_AVANTGARDE\n",
    "3. SOHO_KZ\n",
    "4. VERS_TYP\n",
    "5. OST_WEST_KZ\n",
    "\n",
    "However, the feature *OST_WEST_KZ* was accepting non numeric values for East (O) and West (W). Therefore this was remapped to numeric values of (1, 2).\n",
    "\n",
    "The following multi level columns were dropped: \n",
    "\n",
    "1. GFK_URLAUBERTYP\n",
    "2. LP_FAMILIE_FEIN\n",
    "3. LP_STATUS_FEIN\n",
    "4. CAMEO_DEU_2015\n",
    "\n",
    "This is because these features have many values, or they are reduntant as they are detailed versions of other features. For example LP_FAMILIE_FEIN is a specialization of LP_FAMILIE_GROB, both of which is used to denote 'Family Type'.\n",
    "\n",
    "The following multi level features were retained:\n",
    "\n",
    "1. CJT_GESAMTTYP\n",
    "2. FINANZTYP\n",
    "3. LP_FAMILIE_GROB\n",
    "4. LP_STATUS_GROB\n",
    "5. NATIONALITAET_KZ\n",
    "6. SHOPPER_TYP\n",
    "7. ZABEOTYP\n",
    "8. GEBAEUDETYP\n",
    "9. CAMEO_DEUG_2015\n"
   ]
  },
  {
   "cell_type": "markdown",
   "metadata": {},
   "source": [
    "#### Step 1.2.2: Engineer Mixed-Type Features\n",
    "\n",
    "There are a handful of features that are marked as \"mixed\" in the feature summary that require special treatment in order to be included in the analysis. There are two in particular that deserve attention; the handling of the rest are up to your own choices:\n",
    "- \"PRAEGENDE_JUGENDJAHRE\" combines information on three dimensions: generation by decade, movement (mainstream vs. avantgarde), and nation (east vs. west). While there aren't enough levels to disentangle east from west, you should create two new variables to capture the other two dimensions: an interval-type variable for decade, and a binary variable for movement.\n",
    "- \"CAMEO_INTL_2015\" combines information on two axes: wealth and life stage. Break up the two-digit codes by their 'tens'-place and 'ones'-place digits into two new ordinal variables (which, for the purposes of this project, is equivalent to just treating them as their raw numeric values).\n",
    "- If you decide to keep or engineer new features around the other mixed-type features, make sure you note your steps in the Discussion section.\n",
    "\n",
    "Be sure to check `Data_Dictionary.md` for the details needed to finish these tasks."
   ]
  },
  {
   "cell_type": "code",
   "execution_count": 23,
   "metadata": {},
   "outputs": [
    {
     "data": {
      "text/html": [
       "<div>\n",
       "<style scoped>\n",
       "    .dataframe tbody tr th:only-of-type {\n",
       "        vertical-align: middle;\n",
       "    }\n",
       "\n",
       "    .dataframe tbody tr th {\n",
       "        vertical-align: top;\n",
       "    }\n",
       "\n",
       "    .dataframe thead th {\n",
       "        text-align: right;\n",
       "    }\n",
       "</style>\n",
       "<table border=\"1\" class=\"dataframe\">\n",
       "  <thead>\n",
       "    <tr style=\"text-align: right;\">\n",
       "      <th></th>\n",
       "      <th>attribute</th>\n",
       "      <th>information_level</th>\n",
       "      <th>type</th>\n",
       "      <th>missing_or_unknown</th>\n",
       "    </tr>\n",
       "  </thead>\n",
       "  <tbody>\n",
       "    <tr>\n",
       "      <th>15</th>\n",
       "      <td>LP_LEBENSPHASE_FEIN</td>\n",
       "      <td>person</td>\n",
       "      <td>mixed</td>\n",
       "      <td>[0]</td>\n",
       "    </tr>\n",
       "    <tr>\n",
       "      <th>16</th>\n",
       "      <td>LP_LEBENSPHASE_GROB</td>\n",
       "      <td>person</td>\n",
       "      <td>mixed</td>\n",
       "      <td>[0]</td>\n",
       "    </tr>\n",
       "    <tr>\n",
       "      <th>22</th>\n",
       "      <td>PRAEGENDE_JUGENDJAHRE</td>\n",
       "      <td>person</td>\n",
       "      <td>mixed</td>\n",
       "      <td>[-1,0]</td>\n",
       "    </tr>\n",
       "    <tr>\n",
       "      <th>56</th>\n",
       "      <td>WOHNLAGE</td>\n",
       "      <td>building</td>\n",
       "      <td>mixed</td>\n",
       "      <td>[-1]</td>\n",
       "    </tr>\n",
       "    <tr>\n",
       "      <th>59</th>\n",
       "      <td>CAMEO_INTL_2015</td>\n",
       "      <td>microcell_rr4</td>\n",
       "      <td>mixed</td>\n",
       "      <td>[-1,XX]</td>\n",
       "    </tr>\n",
       "    <tr>\n",
       "      <th>64</th>\n",
       "      <td>KBA05_BAUMAX</td>\n",
       "      <td>microcell_rr3</td>\n",
       "      <td>mixed</td>\n",
       "      <td>[-1,0]</td>\n",
       "    </tr>\n",
       "    <tr>\n",
       "      <th>79</th>\n",
       "      <td>PLZ8_BAUMAX</td>\n",
       "      <td>macrocell_plz8</td>\n",
       "      <td>mixed</td>\n",
       "      <td>[-1,0]</td>\n",
       "    </tr>\n",
       "  </tbody>\n",
       "</table>\n",
       "</div>"
      ],
      "text/plain": [
       "                attribute information_level   type missing_or_unknown\n",
       "15    LP_LEBENSPHASE_FEIN            person  mixed                [0]\n",
       "16    LP_LEBENSPHASE_GROB            person  mixed                [0]\n",
       "22  PRAEGENDE_JUGENDJAHRE            person  mixed             [-1,0]\n",
       "56               WOHNLAGE          building  mixed               [-1]\n",
       "59        CAMEO_INTL_2015     microcell_rr4  mixed            [-1,XX]\n",
       "64           KBA05_BAUMAX     microcell_rr3  mixed             [-1,0]\n",
       "79            PLZ8_BAUMAX    macrocell_plz8  mixed             [-1,0]"
      ]
     },
     "execution_count": 23,
     "metadata": {},
     "output_type": "execute_result"
    }
   ],
   "source": [
    "feat_info[feat_info['type'] == 'mixed']"
   ]
  },
  {
   "cell_type": "code",
   "execution_count": 9,
   "metadata": {},
   "outputs": [],
   "source": [
    "# Investigate \"PRAEGENDE_JUGENDJAHRE\" and engineer two new variables.\n",
    "\n",
    "azdias.insert(azdias.shape[1], \"DECADE\", np.nan, True)\n",
    "azdias.loc[azdias['PRAEGENDE_JUGENDJAHRE'].isin([1,2]), \"DECADE\"] = 1940\n",
    "azdias.loc[azdias['PRAEGENDE_JUGENDJAHRE'].isin([3,4]), \"DECADE\"] = 1950\n",
    "azdias.loc[azdias['PRAEGENDE_JUGENDJAHRE'].isin([5,6,7]), \"DECADE\"] = 1960\n",
    "azdias.loc[azdias['PRAEGENDE_JUGENDJAHRE'].isin([8,9]), \"DECADE\"] = 1970\n",
    "azdias.loc[azdias['PRAEGENDE_JUGENDJAHRE'].isin([10,11,12,13]), \"DECADE\"] = 1980\n",
    "azdias.loc[azdias['PRAEGENDE_JUGENDJAHRE'].isin([14,15]), \"DECADE\"] = 1990\n",
    "\n",
    "azdias.insert(azdias.shape[1], \"MOVEMENT\", np.nan, True)\n",
    "azdias.loc[azdias['PRAEGENDE_JUGENDJAHRE'].isin([1,3,5,8,10,12,14]), \"MOVEMENT\"] = 1\n",
    "azdias.loc[azdias['PRAEGENDE_JUGENDJAHRE'].isin([2,4,6,7,9,11,13,15]), \"MOVEMENT\"] = 2\n",
    "\n",
    "azdias.insert(azdias.shape[1], \"NATION\", np.nan, True)\n",
    "azdias.loc[azdias['PRAEGENDE_JUGENDJAHRE'].isin([1,2,3,4,5,8,9,14,15]), \"NATION\"] = 1\n",
    "azdias.loc[azdias['PRAEGENDE_JUGENDJAHRE'].isin([7,12,13]), \"NATION\"] = 2\n",
    "azdias.loc[azdias['PRAEGENDE_JUGENDJAHRE'].isin([6,10,11]), \"NATION\"] = 3"
   ]
  },
  {
   "cell_type": "code",
   "execution_count": 10,
   "metadata": {},
   "outputs": [],
   "source": [
    "# Investigate \"CAMEO_INTL_2015\" and engineer two new variables.\n",
    "\n",
    "# Casting type objct type to float data type\n",
    "azdias['CAMEO_INTL_2015'] = azdias['CAMEO_INTL_2015'].astype(float)\n",
    "\n",
    "# New column to track household wealth\n",
    "azdias.insert(azdias.shape[1], \"HOUSEHOLD_WEALTH\", np.nan, True)\n",
    "\n",
    "# Wealthy households\n",
    "azdias.loc[azdias['CAMEO_INTL_2015'].isin([11,12,13,14,15]), \"HOUSEHOLD_WEALTH\"] = 1\n",
    "#Prosperous households\n",
    "azdias.loc[azdias['CAMEO_INTL_2015'].isin([21,22,23,24,25]), \"HOUSEHOLD_WEALTH\"] = 2\n",
    "# Comfortable households\n",
    "azdias.loc[azdias['CAMEO_INTL_2015'].isin([31,32,33,34,35]), \"HOUSEHOLD_WEALTH\"] = 3\n",
    "# Less affluent households\n",
    "azdias.loc[azdias['CAMEO_INTL_2015'].isin([41,42,43,44,45]), \"HOUSEHOLD_WEALTH\"] = 4\n",
    "# Poorer households\n",
    "azdias.loc[azdias['CAMEO_INTL_2015'].isin([51,52,53,54,55]), \"HOUSEHOLD_WEALTH\"] = 5\n",
    "\n",
    "# New column to track household life stage typology\n",
    "azdias.insert(azdias.shape[1], \"HOUSEHOLD_LIFESTAGE\", np.nan, True)\n",
    "\n",
    "# Pre-family couples and singles\n",
    "azdias.loc[azdias['CAMEO_INTL_2015'].isin([11,21,31,41,51]), \"HOUSEHOLD_LIFESTAGE\"] = 1\n",
    "# Young couples with children\n",
    "azdias.loc[azdias['CAMEO_INTL_2015'].isin([12,22,32,42,52]), \"HOUSEHOLD_LIFESTAGE\"] = 2\n",
    "# Families with school age childgren\n",
    "azdias.loc[azdias['CAMEO_INTL_2015'].isin([13,23,33,43,53]), \"HOUSEHOLD_LIFESTAGE\"] = 3\n",
    "# Older families and mature couple\n",
    "azdias.loc[azdias['CAMEO_INTL_2015'].isin([14,24,34,44,54]), \"HOUSEHOLD_LIFESTAGE\"] = 4\n",
    "# Elders in retirement\n",
    "azdias.loc[azdias['CAMEO_INTL_2015'].isin([15,25,35,45,55]), \"HOUSEHOLD_LIFESTAGE\"] = 5"
   ]
  },
  {
   "cell_type": "code",
   "execution_count": 11,
   "metadata": {},
   "outputs": [],
   "source": [
    "# Investigate \"WOHNLAGE\" and engineer two new variables.\n",
    "\n",
    "# New column to track RURAL NEIGHBORHOOD\n",
    "azdias.insert(azdias.shape[1], \"RURAL_NEIGHBORHOOD\", np.nan, True)\n",
    "\n",
    "# Rural\n",
    "azdias.loc[azdias['WOHNLAGE'].isin([7,8]), \"RURAL_NEIGHBORHOOD\"] = 1\n",
    "# Urban\n",
    "azdias.loc[azdias['WOHNLAGE'].isin([1,2,3,4,5]), \"RURAL_NEIGHBORHOOD\"] = 0\n",
    "\n",
    "# New column to track NEIGHBORHOOD QUALITY\n",
    "azdias.insert(azdias.shape[1], \"NEIGHBORHOOD_QUALITY\", np.nan, True)\n",
    "\n",
    "# Very good neighborhood\n",
    "azdias.loc[azdias['WOHNLAGE'].isin([1]), \"NEIGHBORHOOD_QUALITY\"] = 1\n",
    "\n",
    "# Good neighborhood\n",
    "azdias.loc[azdias['WOHNLAGE'].isin([2]), \"NEIGHBORHOOD_QUALITY\"] = 2\n",
    "\n",
    "# Average neighborhood\n",
    "azdias.loc[azdias['WOHNLAGE'].isin([3]), \"NEIGHBORHOOD_QUALITY\"] = 3\n",
    "\n",
    "# Poor neighborhood\n",
    "azdias.loc[azdias['WOHNLAGE'].isin([4]), \"NEIGHBORHOOD_QUALITY\"] = 4\n",
    "\n",
    "# Very poor neighborhood\n",
    "azdias.loc[azdias['WOHNLAGE'].isin([5]), \"NEIGHBORHOOD_QUALITY\"] = 5\n",
    "\n",
    "# neighborhood quality is missing for rural neighbhorhoods\n",
    "azdias.loc[azdias['WOHNLAGE'].isin([7,8]), \"NEIGHBORHOOD_QUALITY\"] = np.nan"
   ]
  },
  {
   "cell_type": "code",
   "execution_count": 12,
   "metadata": {},
   "outputs": [],
   "source": [
    "# Drop orignial columns that were reengineered\n",
    "azdias.drop(\"PRAEGENDE_JUGENDJAHRE\", axis=1, inplace=True)\n",
    "azdias.drop(\"CAMEO_INTL_2015\", axis=1, inplace=True)\n",
    "azdias.drop(\"WOHNLAGE\", axis=1, inplace=True)\n",
    "\n",
    "# Drop redundant columns that we don't intend to keep\n",
    "azdias.drop(\"LP_LEBENSPHASE_GROB\", axis=1, inplace=True)\n",
    "azdias.drop(\"PLZ8_BAUMAX\", axis=1, inplace=True)"
   ]
  },
  {
   "cell_type": "markdown",
   "metadata": {},
   "source": [
    "#### Discussion 1.2.2: Engineer Mixed-Type Features\n",
    "\n",
    "**Q. Regarding mixed-value features, which ones did you keep, which did you drop, and what engineering steps did you perform?**\n",
    "\n",
    "There are seven mixed type features:\n",
    "\n",
    "LP_LEBENSPHASE_FEIN,\n",
    "LP_LEBENSPHASE_GROB,\n",
    "PRAEGENDE_JUGENDJAHRE,\n",
    "WOHNLAGE,\n",
    "CAMEO_INTL_2015,\n",
    "KBA05_BAUMAX,\n",
    "PLZ8_BAUMAX\n",
    "\n",
    "Features that were dropped:\n",
    "\n",
    "1. KBA05_BAUMAX was already dropped in section 1.1.2.\n",
    "2. LP_LEBENSPHASE_FEIN was already dropped in section 1.2.1\n",
    "3. LP_LEBENSPHASE_GROB is used to denote single/family status, age ranges and income ranges. However, there are other features that already track this, such as LP_FAMILIE_GROB for family status LP_STATUS_GROB for income, etc.\n",
    "4. PLZ8_BAUMAX pertains to building type in PLZ8 region. It was dropped as there are other features (PLZ8_ANTG1, PLZ8_ANTG2, etc.) that alraedy track this information.\n",
    "\n",
    "Features that were reengineered:\n",
    "\n",
    "1. PRAEGENDE_JUGENDJAHRE was reengineered to introduce two additional features: MOVEMENT and NATION.\n",
    "2. CAMEO_INTL_2015 was reengineered to introduce two additional features: HOUSEHOLD_WEALTH and HOUSEHOLD_LIFESTAGE.\n",
    "3. WOHNLAGE was reengineered to NEIGHBORHOOD_QUALITY and RURAL_NEIGHBORHOOD. The RURAL_NEIGHBORHOOD feature indicates with the property is in a rual or urban area. The NEIGHBORHOOD_QUALITY feature is present only for urban areas, and therefore they will be replaced with np.nan for urban areas."
   ]
  },
  {
   "cell_type": "markdown",
   "metadata": {},
   "source": [
    "#### Step 1.2.3: Complete Feature Selection\n",
    "\n",
    "In order to finish this step up, you need to make sure that your data frame now only has the columns that you want to keep. To summarize, the dataframe should consist of the following:\n",
    "- All numeric, interval, and ordinal type columns from the original dataset.\n",
    "- Binary categorical features (all numerically-encoded).\n",
    "- Engineered features from other multi-level categorical features and mixed features.\n",
    "\n",
    "Make sure that for any new columns that you have engineered, that you've excluded the original columns from the final dataset. Otherwise, their values will interfere with the analysis later on the project. For example, you should not keep \"PRAEGENDE_JUGENDJAHRE\", since its values won't be useful for the algorithm: only the values derived from it in the engineered features you created should be retained. As a reminder, your data should only be from **the subset with few or no missing values**."
   ]
  },
  {
   "cell_type": "code",
   "execution_count": 13,
   "metadata": {},
   "outputs": [],
   "source": [
    "# If there are other re-engineering tasks you need to perform, make sure you\n",
    "# take care of them here. (Dealing with missing data will come in step 2.1.)\n",
    "\n",
    "# We need to create dummy variables for all category types before we can proceed\n",
    "#get the list of all categorical features\n",
    "categorical_feat = feat_info['attribute'][feat_info['type']=='categorical']\n",
    "\n",
    "#The binary categories of ANREDE_KZ, GREEN_AVANTGARDE, SOHO_KZ, VERS_TYP, OST_WEST_KZ has to be dropped from further processing\n",
    "categorical_feat.drop([2,13,39,41,55], inplace=True)\n",
    "\n",
    "# add the newly minted categories to the list\n",
    "new_cat = pd.Series([\"DECADE\",\"MOVEMENT\", \"NATION\", \"HOUSEHOLD_WEALTH\", \"HOUSEHOLD_LIFESTAGE\", \"RURAL_NEIGHBORHOOD\",\n",
    "                     \"NEIGHBORHOOD_QUALITY\"])\n",
    "\n",
    "all_categorical_feat = categorical_feat.append(new_cat, ignore_index=True,)\n",
    "\n",
    "# filter all categories to get only the categories currently in use\n",
    "cats_in_use = all_categorical_feat[all_categorical_feat.isin(list(azdias.columns))]\n",
    "\n",
    "# create dummy columns for the categories in use\n",
    "for cat in cats_in_use:    \n",
    "    dummy_cat = pd.get_dummies(azdias[cat], prefix=cat)    \n",
    "    azdias = pd.concat([azdias, dummy_cat], axis=1)\n",
    "    \n",
    "# Drop the original categories\n",
    "azdias.drop(cats_in_use, axis=1, inplace=True)"
   ]
  },
  {
   "cell_type": "code",
   "execution_count": 17,
   "metadata": {
    "scrolled": false
   },
   "outputs": [],
   "source": [
    "# Do whatever you need to in order to ensure that the dataframe only contains\n",
    "# the columns that should be passed to the algorithm functions.\n"
   ]
  },
  {
   "cell_type": "code",
   "execution_count": 14,
   "metadata": {},
   "outputs": [
    {
     "data": {
      "text/plain": [
       "(797426, 133)"
      ]
     },
     "execution_count": 14,
     "metadata": {},
     "output_type": "execute_result"
    }
   ],
   "source": [
    "# Save the updated azdias for later use\n",
    "azdias.to_csv('azdias_clean.csv')\n",
    "azdias.shape"
   ]
  },
  {
   "cell_type": "code",
   "execution_count": null,
   "metadata": {},
   "outputs": [],
   "source": [
    "# Load the azdias file\n",
    "azdias = pd.read_csv('azdias_clean.csv')\n",
    "azdias.shape"
   ]
  },
  {
   "cell_type": "markdown",
   "metadata": {},
   "source": [
    "### Step 1.3: Create a Cleaning Function\n",
    "\n",
    "Even though you've finished cleaning up the general population demographics data, it's important to look ahead to the future and realize that you'll need to perform the same cleaning steps on the customer demographics data. In this substep, complete the function below to execute the main feature selection, encoding, and re-engineering steps you performed above. Then, when it comes to looking at the customer data in Step 3, you can just run this function on that DataFrame to get the trimmed dataset in a single step."
   ]
  },
  {
   "cell_type": "code",
   "execution_count": 15,
   "metadata": {},
   "outputs": [],
   "source": [
    "def clean_data(df):\n",
    "    \"\"\"\n",
    "    Perform feature trimming, re-encoding, and engineering for demographics\n",
    "    data\n",
    "    \n",
    "    INPUT: Demographics DataFrame\n",
    "    OUTPUT: Trimmed and cleaned demographics DataFrame\n",
    "    \"\"\"\n",
    "    \n",
    "    # Put in code here to execute all main cleaning steps:\n",
    "    # convert missing value codes into NaNs, ...\n",
    "    \n",
    "    for index, rows in feat_info.iterrows():\n",
    "        feature_name = feat_info.iloc[index, 0]\n",
    "        missing_or_unknown = feat_info.iloc[index, 3]\n",
    "        missing_or_unknown = missing_or_unknown.replace('[', '').replace(']', '').replace(',', ' ')\n",
    "        list_missing_or_unknown = list(missing_or_unknown.split(' '))\n",
    "    \n",
    "        df.loc[df[feature_name].isin(list_missing_or_unknown), feature_name] = np.nan  \n",
    "    \n",
    "    \n",
    "    # remove selected columns and rows, ...\n",
    "    df.drop(['AGER_TYP','GEBURTSJAHR', 'TITEL_KZ', 'ALTER_HH', 'KK_KUNDENTYP', 'KBA05_BAUMAX'], axis=1, inplace=True)\n",
    "    \n",
    "    df.drop(['GFK_URLAUBERTYP', 'LP_FAMILIE_FEIN', 'LP_STATUS_FEIN', 'CAMEO_DEU_2015'], axis=1, inplace=True)\n",
    "    df.drop(\"GEBAEUDETYP\", axis=1, inplace=True)\n",
    "    \n",
    "    # select, re-encode, and engineer column values.\n",
    "    \n",
    "    # Re-encode OST_WEST_KZ feature\n",
    "    \n",
    "    d = {'O': 1, 'W': 2}\n",
    "    df['OST_WEST_KZ'] = df['OST_WEST_KZ'].map(d)\n",
    "    \n",
    "    # Re-encode \"PRAEGENDE_JUGENDJAHRE\" feature and create two new variables    \n",
    "\n",
    "    df.insert(df.shape[1], \"DECADE\", np.nan, True)\n",
    "    df.loc[df['PRAEGENDE_JUGENDJAHRE'].isin([1,2]), \"DECADE\"] = 1940\n",
    "    df.loc[df['PRAEGENDE_JUGENDJAHRE'].isin([3,4]), \"DECADE\"] = 1950\n",
    "    df.loc[df['PRAEGENDE_JUGENDJAHRE'].isin([5,6,7]), \"DECADE\"] = 1960\n",
    "    df.loc[df['PRAEGENDE_JUGENDJAHRE'].isin([8,9]), \"DECADE\"] = 1970\n",
    "    df.loc[df['PRAEGENDE_JUGENDJAHRE'].isin([10,11,12,13]), \"DECADE\"] = 1980\n",
    "    df.loc[df['PRAEGENDE_JUGENDJAHRE'].isin([14,15]), \"DECADE\"] = 1990\n",
    "\n",
    "    df.insert(df.shape[1], \"MOVEMENT\", np.nan, True)\n",
    "    df.loc[df['PRAEGENDE_JUGENDJAHRE'].isin([1,3,5,8,10,12,14]), \"MOVEMENT\"] = 1\n",
    "    df.loc[df['PRAEGENDE_JUGENDJAHRE'].isin([2,4,6,7,9,11,13,15]), \"MOVEMENT\"] = 2\n",
    "\n",
    "    df.insert(df.shape[1], \"NATION\", np.nan, True)\n",
    "    df.loc[df['PRAEGENDE_JUGENDJAHRE'].isin([1,2,3,4,5,8,9,14,15]), \"NATION\"] = 1\n",
    "    df.loc[df['PRAEGENDE_JUGENDJAHRE'].isin([7,12,13]), \"NATION\"] = 2\n",
    "    df.loc[df['PRAEGENDE_JUGENDJAHRE'].isin([6,10,11]), \"NATION\"] = 3\n",
    "    \n",
    "    # Re-encode \"CAMEO_INTL_2015\" and create two new variables.    \n",
    "\n",
    "    # Casting type objct type to float data type\n",
    "    df['CAMEO_INTL_2015'] = df['CAMEO_INTL_2015'].astype(float)\n",
    "\n",
    "    # New column to track household wealth\n",
    "    df.insert(df.shape[1], \"HOUSEHOLD_WEALTH\", np.nan, True)\n",
    "\n",
    "    # Wealthy households\n",
    "    df.loc[df['CAMEO_INTL_2015'].isin([11,12,13,14,15]), \"HOUSEHOLD_WEALTH\"] = 1\n",
    "    #Prosperous households\n",
    "    df.loc[df['CAMEO_INTL_2015'].isin([21,22,23,24,25]), \"HOUSEHOLD_WEALTH\"] = 2\n",
    "    # Comfortable households\n",
    "    df.loc[df['CAMEO_INTL_2015'].isin([31,32,33,34,35]), \"HOUSEHOLD_WEALTH\"] = 3\n",
    "    # Less affluent households\n",
    "    df.loc[df['CAMEO_INTL_2015'].isin([41,42,43,44,45]), \"HOUSEHOLD_WEALTH\"] = 4\n",
    "    # Poorer households\n",
    "    df.loc[df['CAMEO_INTL_2015'].isin([51,52,53,54,55]), \"HOUSEHOLD_WEALTH\"] = 5\n",
    "\n",
    "    # New column to track household life stage typology\n",
    "    df.insert(df.shape[1], \"HOUSEHOLD_LIFESTAGE\", np.nan, True)\n",
    "\n",
    "    # Pre-family couples and singles\n",
    "    df.loc[df['CAMEO_INTL_2015'].isin([11,21,31,41,51]), \"HOUSEHOLD_LIFESTAGE\"] = 1\n",
    "    # Young couples with children\n",
    "    df.loc[df['CAMEO_INTL_2015'].isin([12,22,32,42,52]), \"HOUSEHOLD_LIFESTAGE\"] = 2\n",
    "    # Families with school age childgren\n",
    "    df.loc[df['CAMEO_INTL_2015'].isin([13,23,33,43,53]), \"HOUSEHOLD_LIFESTAGE\"] = 3\n",
    "    # Older families and mature couple\n",
    "    df.loc[df['CAMEO_INTL_2015'].isin([14,24,34,44,54]), \"HOUSEHOLD_LIFESTAGE\"] = 4\n",
    "    # Elders in retirement\n",
    "    df.loc[df['CAMEO_INTL_2015'].isin([15,25,35,45,55]), \"HOUSEHOLD_LIFESTAGE\"] = 5\n",
    "    \n",
    "    \n",
    "    # Reeoncdoe \"WOHNLAGE\" feature and engineer two new variables.\n",
    "\n",
    "    # New column to track RURAL NEIGHBORHOOD\n",
    "    df.insert(df.shape[1], \"RURAL_NEIGHBORHOOD\", np.nan, True)\n",
    "\n",
    "    # Rural\n",
    "    df.loc[df['WOHNLAGE'].isin([7,8]), \"RURAL_NEIGHBORHOOD\"] = 1\n",
    "    # Urban\n",
    "    df.loc[df['WOHNLAGE'].isin([1,2,3,4,5]), \"RURAL_NEIGHBORHOOD\"] = 0\n",
    "\n",
    "    # New column to track NEIGHBORHOOD QUALITY\n",
    "    df.insert(df.shape[1], \"NEIGHBORHOOD_QUALITY\", np.nan, True)\n",
    "\n",
    "    # Very good neighborhood\n",
    "    df.loc[df['WOHNLAGE'].isin([1]), \"NEIGHBORHOOD_QUALITY\"] = 1\n",
    "\n",
    "    # Good neighborhood\n",
    "    df.loc[df['WOHNLAGE'].isin([2]), \"NEIGHBORHOOD_QUALITY\"] = 2\n",
    "\n",
    "    # Average neighborhood\n",
    "    df.loc[df['WOHNLAGE'].isin([3]), \"NEIGHBORHOOD_QUALITY\"] = 3\n",
    "\n",
    "    # Poor neighborhood\n",
    "    df.loc[df['WOHNLAGE'].isin([4]), \"NEIGHBORHOOD_QUALITY\"] = 4\n",
    "\n",
    "    # Very poor neighborhood\n",
    "    df.loc[df['WOHNLAGE'].isin([5]), \"NEIGHBORHOOD_QUALITY\"] = 5\n",
    "\n",
    "    # neighborhood quality is missing for rural neighbhorhoods\n",
    "    df.loc[df['WOHNLAGE'].isin([7,8]), \"NEIGHBORHOOD_QUALITY\"] = np.nan\n",
    "    \n",
    "    # Drop the original features that were reengineered\n",
    "    df.drop(['PRAEGENDE_JUGENDJAHRE', 'CAMEO_INTL_2015', 'WOHNLAGE', 'LP_LEBENSPHASE_GROB', 'PLZ8_BAUMAX'], axis=1, inplace=True)\n",
    "    \n",
    "    # We need to create dummy variables for all category types before we can proceed\n",
    "    # get the list of all categorical features\n",
    "    categorical_feat = feat_info['attribute'][feat_info['type']=='categorical']\n",
    "    \n",
    "    #The binary categories of ANREDE_KZ, GREEN_AVANTGARDE, SOHO_KZ, VERS_TYP, OST_WEST_KZ has to be dropped from further processing\n",
    "    categorical_feat.drop([2,13,39,41,55], inplace=True)\n",
    "\n",
    "    # add the newly minted categories to the list\n",
    "    new_cat = pd.Series([\"DECADE\",\"MOVEMENT\", \"NATION\", \"HOUSEHOLD_WEALTH\", \"HOUSEHOLD_LIFESTAGE\", \"RURAL_NEIGHBORHOOD\",\n",
    "                         \"NEIGHBORHOOD_QUALITY\"])\n",
    "\n",
    "    all_categorical_feat = categorical_feat.append(new_cat, ignore_index=True,)\n",
    "\n",
    "    # filter all categories to get only the categories currently in use\n",
    "    cats_in_use = all_categorical_feat[all_categorical_feat.isin(list(df.columns))]\n",
    "\n",
    "    # create dummy columns for the categories in use\n",
    "    for cat in cats_in_use:    \n",
    "        dummy_cat = pd.get_dummies(df[cat], prefix=cat)    \n",
    "        df = pd.concat([df, dummy_cat], axis=1)\n",
    "\n",
    "    # Drop the original categories\n",
    "    df.drop(cats_in_use, axis=1, inplace=True)\n",
    "    \n",
    "    # Return the cleaned dataframe.\n",
    "    return df"
   ]
  },
  {
   "cell_type": "markdown",
   "metadata": {},
   "source": [
    "## Step 2: Feature Transformation\n",
    "\n",
    "### Step 2.1: Apply Feature Scaling\n",
    "\n",
    "Before we apply dimensionality reduction techniques to the data, we need to perform feature scaling so that the principal component vectors are not influenced by the natural differences in scale for features. Starting from this part of the project, you'll want to keep an eye on the [API reference page for sklearn](http://scikit-learn.org/stable/modules/classes.html) to help you navigate to all of the classes and functions that you'll need. In this substep, you'll need to check the following:\n",
    "\n",
    "- sklearn requires that data not have missing values in order for its estimators to work properly. So, before applying the scaler to your data, make sure that you've cleaned the DataFrame of the remaining missing values. This can be as simple as just removing all data points with missing data, or applying an [Imputer](http://scikit-learn.org/stable/modules/generated/sklearn.preprocessing.Imputer.html) to replace all missing values. You might also try a more complicated procedure where you temporarily remove missing values in order to compute the scaling parameters before re-introducing those missing values and applying imputation. Think about how much missing data you have and what possible effects each approach might have on your analysis, and justify your decision in the discussion section below.\n",
    "- For the actual scaling function, a [StandardScaler](http://scikit-learn.org/stable/modules/generated/sklearn.preprocessing.StandardScaler.html) instance is suggested, scaling each feature to mean 0 and standard deviation 1.\n",
    "- For these classes, you can make use of the `.fit_transform()` method to both fit a procedure to the data as well as apply the transformation to the data at the same time. Don't forget to keep the fit sklearn objects handy, since you'll be applying them to the customer demographics data towards the end of the project."
   ]
  },
  {
   "cell_type": "code",
   "execution_count": 16,
   "metadata": {},
   "outputs": [],
   "source": [
    "# If you've not yet cleaned the dataset of all NaN values, then investigate and\n",
    "# do that now.\n",
    "\n",
    "from sklearn.impute import SimpleImputer\n",
    "\n",
    "# Use an imputer to replace NaN values in colums with the median value\n",
    "imp_nan = SimpleImputer(missing_values=np.nan , strategy='median')\n",
    "\n",
    "azdias[['ALTERSKATEGORIE_GROB','HEALTH_TYP','LP_LEBENSPHASE_FEIN','RETOURTYP_BK_S','VERS_TYP','W_KEIT_KIND_HH','ANZ_HAUSHALTE_AKTIV','ANZ_HH_TITEL'\n",
    ",'KONSUMNAEHE','KBA05_ANTG1','KBA05_ANTG2','KBA05_ANTG3','KBA05_ANTG4','KBA05_GBZ','BALLRAUM','EWDICHTE','INNENSTADT','GEBAEUDETYP_RASTER'\n",
    ",'KKK','MOBI_REGIO','ONLINE_AFFINITAET','REGIOTYP','KBA13_ANZAHL_PKW','PLZ8_ANTG1','PLZ8_ANTG2','PLZ8_ANTG3','PLZ8_ANTG4','PLZ8_HHZ','PLZ8_GBZ','ARBEIT','ORTSGR_KLS9','RELAT_AB']] = imp_nan.fit_transform(azdias[['ALTERSKATEGORIE_GROB','HEALTH_TYP','LP_LEBENSPHASE_FEIN','RETOURTYP_BK_S','VERS_TYP','W_KEIT_KIND_HH','ANZ_HAUSHALTE_AKTIV','ANZ_HH_TITEL'\n",
    ",'KONSUMNAEHE','KBA05_ANTG1','KBA05_ANTG2','KBA05_ANTG3','KBA05_ANTG4','KBA05_GBZ','BALLRAUM','EWDICHTE','INNENSTADT','GEBAEUDETYP_RASTER'\n",
    ",'KKK','MOBI_REGIO','ONLINE_AFFINITAET','REGIOTYP','KBA13_ANZAHL_PKW','PLZ8_ANTG1','PLZ8_ANTG2','PLZ8_ANTG3','PLZ8_ANTG4','PLZ8_HHZ','PLZ8_GBZ','ARBEIT','ORTSGR_KLS9','RELAT_AB']])"
   ]
  },
  {
   "cell_type": "code",
   "execution_count": 17,
   "metadata": {
    "scrolled": false
   },
   "outputs": [
    {
     "name": "stdout",
     "output_type": "stream",
     "text": [
      "ALTERSKATEGORIE_GROB        0\n",
      "ANREDE_KZ                   0\n",
      "FINANZ_MINIMALIST           0\n",
      "FINANZ_SPARER               0\n",
      "FINANZ_VORSORGER            0\n",
      "FINANZ_ANLEGER              0\n",
      "FINANZ_UNAUFFAELLIGER       0\n",
      "FINANZ_HAUSBAUER            0\n",
      "GREEN_AVANTGARDE            0\n",
      "HEALTH_TYP                  0\n",
      "LP_LEBENSPHASE_FEIN         0\n",
      "RETOURTYP_BK_S              0\n",
      "SEMIO_SOZ                   0\n",
      "SEMIO_FAM                   0\n",
      "SEMIO_REL                   0\n",
      "SEMIO_MAT                   0\n",
      "SEMIO_VERT                  0\n",
      "SEMIO_LUST                  0\n",
      "SEMIO_ERL                   0\n",
      "SEMIO_KULT                  0\n",
      "SEMIO_RAT                   0\n",
      "SEMIO_KRIT                  0\n",
      "SEMIO_DOM                   0\n",
      "SEMIO_KAEM                  0\n",
      "SEMIO_PFLICHT               0\n",
      "SEMIO_TRADV                 0\n",
      "SOHO_KZ                     0\n",
      "VERS_TYP                    0\n",
      "ANZ_PERSONEN                0\n",
      "ANZ_TITEL                   0\n",
      "HH_EINKOMMEN_SCORE          0\n",
      "W_KEIT_KIND_HH              0\n",
      "WOHNDAUER_2008              0\n",
      "ANZ_HAUSHALTE_AKTIV         0\n",
      "ANZ_HH_TITEL                0\n",
      "KONSUMNAEHE                 0\n",
      "MIN_GEBAEUDEJAHR            0\n",
      "OST_WEST_KZ                 0\n",
      "KBA05_ANTG1                 0\n",
      "KBA05_ANTG2                 0\n",
      "KBA05_ANTG3                 0\n",
      "KBA05_ANTG4                 0\n",
      "KBA05_GBZ                   0\n",
      "BALLRAUM                    0\n",
      "EWDICHTE                    0\n",
      "INNENSTADT                  0\n",
      "GEBAEUDETYP_RASTER          0\n",
      "KKK                         0\n",
      "MOBI_REGIO                  0\n",
      "ONLINE_AFFINITAET           0\n",
      "REGIOTYP                    0\n",
      "KBA13_ANZAHL_PKW            0\n",
      "PLZ8_ANTG1                  0\n",
      "PLZ8_ANTG2                  0\n",
      "PLZ8_ANTG3                  0\n",
      "PLZ8_ANTG4                  0\n",
      "PLZ8_HHZ                    0\n",
      "PLZ8_GBZ                    0\n",
      "ARBEIT                      0\n",
      "ORTSGR_KLS9                 0\n",
      "RELAT_AB                    0\n",
      "CJT_GESAMTTYP_1.0           0\n",
      "CJT_GESAMTTYP_2.0           0\n",
      "CJT_GESAMTTYP_3.0           0\n",
      "CJT_GESAMTTYP_4.0           0\n",
      "CJT_GESAMTTYP_5.0           0\n",
      "CJT_GESAMTTYP_6.0           0\n",
      "FINANZTYP_1.0               0\n",
      "FINANZTYP_2.0               0\n",
      "FINANZTYP_3.0               0\n",
      "FINANZTYP_4.0               0\n",
      "FINANZTYP_5.0               0\n",
      "FINANZTYP_6.0               0\n",
      "LP_FAMILIE_GROB_1.0         0\n",
      "LP_FAMILIE_GROB_2.0         0\n",
      "LP_FAMILIE_GROB_3.0         0\n",
      "LP_FAMILIE_GROB_4.0         0\n",
      "LP_FAMILIE_GROB_5.0         0\n",
      "LP_STATUS_GROB_1.0          0\n",
      "LP_STATUS_GROB_2.0          0\n",
      "LP_STATUS_GROB_3.0          0\n",
      "LP_STATUS_GROB_4.0          0\n",
      "LP_STATUS_GROB_5.0          0\n",
      "NATIONALITAET_KZ_1.0        0\n",
      "NATIONALITAET_KZ_2.0        0\n",
      "NATIONALITAET_KZ_3.0        0\n",
      "SHOPPER_TYP_0.0             0\n",
      "SHOPPER_TYP_1.0             0\n",
      "SHOPPER_TYP_2.0             0\n",
      "SHOPPER_TYP_3.0             0\n",
      "ZABEOTYP_1.0                0\n",
      "ZABEOTYP_2.0                0\n",
      "ZABEOTYP_3.0                0\n",
      "ZABEOTYP_4.0                0\n",
      "ZABEOTYP_5.0                0\n",
      "ZABEOTYP_6.0                0\n",
      "CAMEO_DEUG_2015_1           0\n",
      "CAMEO_DEUG_2015_2           0\n",
      "CAMEO_DEUG_2015_3           0\n",
      "CAMEO_DEUG_2015_4           0\n",
      "CAMEO_DEUG_2015_5           0\n",
      "CAMEO_DEUG_2015_6           0\n",
      "CAMEO_DEUG_2015_7           0\n",
      "CAMEO_DEUG_2015_8           0\n",
      "CAMEO_DEUG_2015_9           0\n",
      "DECADE_1940.0               0\n",
      "DECADE_1950.0               0\n",
      "DECADE_1960.0               0\n",
      "DECADE_1970.0               0\n",
      "DECADE_1980.0               0\n",
      "DECADE_1990.0               0\n",
      "MOVEMENT_1.0                0\n",
      "MOVEMENT_2.0                0\n",
      "NATION_1.0                  0\n",
      "NATION_2.0                  0\n",
      "NATION_3.0                  0\n",
      "HOUSEHOLD_WEALTH_1.0        0\n",
      "HOUSEHOLD_WEALTH_2.0        0\n",
      "HOUSEHOLD_WEALTH_3.0        0\n",
      "HOUSEHOLD_WEALTH_4.0        0\n",
      "HOUSEHOLD_WEALTH_5.0        0\n",
      "HOUSEHOLD_LIFESTAGE_1.0     0\n",
      "HOUSEHOLD_LIFESTAGE_2.0     0\n",
      "HOUSEHOLD_LIFESTAGE_3.0     0\n",
      "HOUSEHOLD_LIFESTAGE_4.0     0\n",
      "HOUSEHOLD_LIFESTAGE_5.0     0\n",
      "RURAL_NEIGHBORHOOD_0.0      0\n",
      "RURAL_NEIGHBORHOOD_1.0      0\n",
      "NEIGHBORHOOD_QUALITY_1.0    0\n",
      "NEIGHBORHOOD_QUALITY_2.0    0\n",
      "NEIGHBORHOOD_QUALITY_3.0    0\n",
      "NEIGHBORHOOD_QUALITY_4.0    0\n",
      "NEIGHBORHOOD_QUALITY_5.0    0\n",
      "dtype: int64\n"
     ]
    }
   ],
   "source": [
    "# Verify if all the NaN are removed\n",
    "\n",
    "with pd.option_context('display.max_rows', None, 'display.max_columns', None):\n",
    "    print(azdias.isnull().sum())"
   ]
  },
  {
   "cell_type": "code",
   "execution_count": 18,
   "metadata": {},
   "outputs": [
    {
     "name": "stderr",
     "output_type": "stream",
     "text": [
      "C:\\Users\\urdee\\Anaconda3\\lib\\site-packages\\sklearn\\preprocessing\\data.py:625: DataConversionWarning: Data with input dtype uint8, int64, float64 were all converted to float64 by StandardScaler.\n",
      "  return self.partial_fit(X, y)\n",
      "C:\\Users\\urdee\\Anaconda3\\lib\\site-packages\\sklearn\\base.py:462: DataConversionWarning: Data with input dtype uint8, int64, float64 were all converted to float64 by StandardScaler.\n",
      "  return self.fit(X, **fit_params).transform(X)\n"
     ]
    }
   ],
   "source": [
    "# Apply feature scaling to the general population demographics data.\n",
    "\n",
    "from sklearn.preprocessing import StandardScaler\n",
    "\n",
    "scaler = StandardScaler()\n",
    "\n",
    "# Covert the ndarray back to a dataframe\n",
    "azdias_scaled = pd.DataFrame(scaler.fit_transform(azdias))\n",
    "azdias_scaled.columns = azdias.columns"
   ]
  },
  {
   "cell_type": "markdown",
   "metadata": {},
   "source": [
    "### Discussion 2.1: Apply Feature Scaling\n",
    "\n",
    "After the rows that had 20 or more NaN values were removed, we are left with 797,426 rows. Out of these, 174,217 rows having atleast one NaN value, which is about 21%. Since this is a significant number, we will attempt to transfrom the NaN values instead of removing those rows.\n",
    "\n",
    "There are 27 features that contans NaN values. An imputer was used to replace the NaN values in these columns with their median value. Once it was verified that there are no NaN values, Standard Scaler was used to perform the scaling operation."
   ]
  },
  {
   "cell_type": "markdown",
   "metadata": {},
   "source": [
    "### Step 2.2: Perform Dimensionality Reduction\n",
    "\n",
    "On your scaled data, you are now ready to apply dimensionality reduction techniques.\n",
    "\n",
    "- Use sklearn's [PCA](http://scikit-learn.org/stable/modules/generated/sklearn.decomposition.PCA.html) class to apply principal component analysis on the data, thus finding the vectors of maximal variance in the data. To start, you should not set any parameters (so all components are computed) or set a number of components that is at least half the number of features (so there's enough features to see the general trend in variability).\n",
    "- Check out the ratio of variance explained by each principal component as well as the cumulative variance explained. Try plotting the cumulative or sequential values using matplotlib's [`plot()`](https://matplotlib.org/api/_as_gen/matplotlib.pyplot.plot.html) function. Based on what you find, select a value for the number of transformed features you'll retain for the clustering part of the project.\n",
    "- Once you've made a choice for the number of components to keep, make sure you re-fit a PCA instance to perform the decided-on transformation."
   ]
  },
  {
   "cell_type": "code",
   "execution_count": 19,
   "metadata": {},
   "outputs": [
    {
     "data": {
      "text/plain": [
       "PCA(copy=True, iterated_power='auto', n_components=None, random_state=None,\n",
       "  svd_solver='auto', tol=0.0, whiten=False)"
      ]
     },
     "execution_count": 19,
     "metadata": {},
     "output_type": "execute_result"
    }
   ],
   "source": [
    "# Apply PCA to the data.\n",
    "from sklearn.decomposition import PCA\n",
    "\n",
    "pca = PCA()\n",
    "pca.fit(azdias_scaled)"
   ]
  },
  {
   "cell_type": "code",
   "execution_count": 20,
   "metadata": {},
   "outputs": [],
   "source": [
    "# scree plot function taken from helpter fuctions file\n",
    "def scree_plot(pca):\n",
    "    '''\n",
    "    Creates a scree plot associated with the principal components \n",
    "    \n",
    "    INPUT: pca - the result of instantian of PCA in scikit learn\n",
    "            \n",
    "    OUTPUT:\n",
    "            None\n",
    "    '''\n",
    "    num_components=len(pca.explained_variance_ratio_)\n",
    "    ind = np.arange(num_components)\n",
    "    vals = pca.explained_variance_ratio_\n",
    " \n",
    "    plt.figure(figsize=(12, 8))\n",
    "    ax = plt.subplot(111)\n",
    "    cumvals = np.cumsum(vals)\n",
    "    ax.bar(ind, vals)\n",
    "    ax.plot(ind, cumvals)\n",
    "    for i in range(num_components):\n",
    "        ax.annotate(r\"%s%%\" % ((str(vals[i]*100)[:4])), (ind[i]+0.2, vals[i]), va=\"bottom\", ha=\"center\", fontsize=12)\n",
    " \n",
    "    ax.xaxis.set_tick_params(width=0)\n",
    "    ax.yaxis.set_tick_params(width=2, length=12)\n",
    " \n",
    "    ax.set_xlabel(\"Principal Component\")\n",
    "    ax.set_ylabel(\"Variance Explained (%)\")\n",
    "    plt.title('Explained Variance Per Principal Component')"
   ]
  },
  {
   "cell_type": "code",
   "execution_count": 21,
   "metadata": {},
   "outputs": [
    {
     "data": {
      "image/png": "[encoded data removed]",
      "text/plain": [
       "<Figure size 864x576 with 1 Axes>"
      ]
     },
     "metadata": {
      "needs_background": "light"
     },
     "output_type": "display_data"
    }
   ],
   "source": [
    "# Investigate the variance accounted for by each principal component.\n",
    "scree_plot(pca)"
   ]
  },
  {
   "cell_type": "code",
   "execution_count": 22,
   "metadata": {},
   "outputs": [],
   "source": [
    "# Re-apply PCA to the data while selecting for number of components to retain.\n",
    "\n",
    "pca = PCA(n_components=40)\n",
    "azdias_pca = pca.fit_transform(azdias_scaled)"
   ]
  },
  {
   "cell_type": "markdown",
   "metadata": {},
   "source": [
    "### Discussion 2.2: Perform Dimensionality Reduction\n",
    "\n",
    "**Q. Regarding dimensionality reduction, how many principal components / transformed features are you retaining for the next step of the analysis?**\n",
    "\n",
    "From the scree plot, we can see that we can capture roughly 70% of the variance with only 40 features. This is less than 1/3rd of the total features we have. Since this is a good tradeoff, I will be going forward with this number."
   ]
  },
  {
   "cell_type": "markdown",
   "metadata": {},
   "source": [
    "### Step 2.3: Interpret Principal Components\n",
    "\n",
    "Now that we have our transformed principal components, it's a nice idea to check out the weight of each variable on the first few components to see if they can be interpreted in some fashion.\n",
    "\n",
    "As a reminder, each principal component is a unit vector that points in the direction of highest variance (after accounting for the variance captured by earlier principal components). The further a weight is from zero, the more the principal component is in the direction of the corresponding feature. If two features have large weights of the same sign (both positive or both negative), then increases in one tend expect to be associated with increases in the other. To contrast, features with different signs can be expected to show a negative correlation: increases in one variable should result in a decrease in the other.\n",
    "\n",
    "- To investigate the features, you should map each weight to their corresponding feature name, then sort the features according to weight. The most interesting features for each principal component, then, will be those at the beginning and end of the sorted list. Use the data dictionary document to help you understand these most prominent features, their relationships, and what a positive or negative value on the principal component might indicate.\n",
    "- You should investigate and interpret feature associations from the first three principal components in this substep. To help facilitate this, you should write a function that you can call at any time to print the sorted list of feature weights, for the *i*-th principal component. This might come in handy in the next step of the project, when you interpret the tendencies of the discovered clusters."
   ]
  },
  {
   "cell_type": "code",
   "execution_count": 24,
   "metadata": {},
   "outputs": [],
   "source": [
    "def get_component_weights(pca, component_no):\n",
    "    \n",
    "    pca.components_[component_no]\n",
    "\n",
    "    s1 = pd.Series(pca.components_[component_no])\n",
    "    s1.index = azdias_scaled.columns\n",
    "    \n",
    "    print(f\"Top positive weights for PCA{component_no}\")    \n",
    "    print (s1.sort_values(ascending=False)[0:5])\n",
    "    print(f\"Top negative weights for PCA{component_no}\")\n",
    "    print (s1.sort_values(ascending=True)[0:5])"
   ]
  },
  {
   "cell_type": "code",
   "execution_count": 27,
   "metadata": {
    "scrolled": false
   },
   "outputs": [
    {
     "name": "stdout",
     "output_type": "stream",
     "text": [
      "Top positive weights for PCA0\n",
      "LP_STATUS_GROB_1.0    0.197393\n",
      "PLZ8_ANTG3            0.188544\n",
      "HH_EINKOMMEN_SCORE    0.185716\n",
      "PLZ8_ANTG4            0.181607\n",
      "ORTSGR_KLS9           0.167577\n",
      "dtype: float64\n",
      "Top negative weights for PCA0\n",
      "MOBI_REGIO          -0.207308\n",
      "FINANZ_MINIMALIST   -0.192643\n",
      "KBA05_ANTG1         -0.190261\n",
      "PLZ8_ANTG1          -0.187752\n",
      "KBA05_GBZ           -0.183462\n",
      "dtype: float64\n"
     ]
    }
   ],
   "source": [
    "# Map weights for the first principal component to corresponding feature names\n",
    "# and then print the linked values, sorted by weight.\n",
    "# HINT: Try defining a function here or in a new cell that you can reuse in the\n",
    "# other cells.\n",
    "\n",
    "get_component_weights(pca, 0)"
   ]
  },
  {
   "cell_type": "code",
   "execution_count": 28,
   "metadata": {
    "scrolled": false
   },
   "outputs": [
    {
     "name": "stdout",
     "output_type": "stream",
     "text": [
      "Top positive weights for PCA1\n",
      "ALTERSKATEGORIE_GROB    0.236137\n",
      "FINANZ_VORSORGER        0.223173\n",
      "ZABEOTYP_3.0            0.205882\n",
      "SEMIO_ERL               0.189706\n",
      "SEMIO_LUST              0.165375\n",
      "dtype: float64\n",
      "Top negative weights for PCA1\n",
      "FINANZ_SPARER           -0.227572\n",
      "SEMIO_REL               -0.220527\n",
      "FINANZ_UNAUFFAELLIGER   -0.217974\n",
      "SEMIO_TRADV             -0.212515\n",
      "SEMIO_PFLICHT           -0.207808\n",
      "dtype: float64\n"
     ]
    }
   ],
   "source": [
    "# Map weights for the second principal component to corresponding feature names\n",
    "# and then print the linked values, sorted by weight.\n",
    "\n",
    "get_component_weights(pca, 1)"
   ]
  },
  {
   "cell_type": "code",
   "execution_count": 29,
   "metadata": {
    "scrolled": false
   },
   "outputs": [
    {
     "name": "stdout",
     "output_type": "stream",
     "text": [
      "Top positive weights for PCA2\n",
      "SEMIO_VERT       0.316302\n",
      "SEMIO_SOZ        0.252427\n",
      "SEMIO_FAM        0.250946\n",
      "SEMIO_KULT       0.240102\n",
      "FINANZTYP_5.0    0.144858\n",
      "dtype: float64\n",
      "Top negative weights for PCA2\n",
      "ANREDE_KZ    -0.339731\n",
      "SEMIO_KAEM   -0.307122\n",
      "SEMIO_DOM    -0.275896\n",
      "SEMIO_KRIT   -0.263513\n",
      "SEMIO_ERL    -0.196417\n",
      "dtype: float64\n"
     ]
    }
   ],
   "source": [
    "# Map weights for the third principal component to corresponding feature names\n",
    "# and then print the linked values, sorted by weight.\n",
    "\n",
    "get_component_weights(pca, 2)"
   ]
  },
  {
   "attachments": {},
   "cell_type": "markdown",
   "metadata": {},
   "source": [
    "### Discussion 2.3: Interpret Principal Components\n",
    "\n",
    "**Q. What are your observations from detailed investigation of the first few principal components generated. Can we interpret positive and negative values from them in a meaningful way?**\n",
    "\n",
    "In my analysis, I am looking only at the top 5 positive and negative weights among the eigen vectors of the PCA, since the heaviest features determine where the PCA is leaning towards.\n",
    "\n",
    "According to the information from  http://www.ddsgeo.com/products/plz8.html, the term PLZ8 refers to an orginizational structure in Germany to group 500 households together. Full explanation is avaible at the website, and a summary is given below:\n",
    "\"For PLZ8 the approximately 8,200 PLZ5 regions in Germany were coded with an additional 3-digit number. All postcodes were subdivided into areas that on average show 500 households, while the PLZ5 regions on average contain 10,000 inhabitants with a spread of 0 to 50,000.\"\n",
    "\n",
    "\"Microcell\" appears a lot in the data dictionary and it appears to be a sub division/area under a PLZ area.\n",
    "\n",
    "PCA0\n",
    "\n",
    "Top positive weights for PCA0:\n",
    "\n",
    "LP_STATUS_GROB_1.0 (Social status - Low income earners)\n",
    "PLZ8_ANTG3 (Number of 6-10 family houses in the PLZ8 region)\n",
    "HH_EINKOMMEN_SCORE (Estimated household net income)\n",
    "PLZ8_ANTG4 (Number of 10+ family houses in the PLZ8 region)\n",
    "ORTSGR_KLS9 (Size of community)\n",
    "\n",
    "Top negative weights for PCA0\n",
    "MOBI_REGIO (Movement patterns)\n",
    "FINANZ_MINIMALIST (Financial - Low financial interest)\n",
    "KBA05_ANTG1 (Number of 1-2 family houses in the microcell)\n",
    "PLZ8_ANTG1 (Number of 1-2 family houses in the PLZ8 region)\n",
    "KBA05_GBZ (Number of buildings in the microcell)\n",
    "\n",
    "The top weights from this PCA tells us about the socio economic status, financial awareness and nature of the domicile of this population. This data appears to correspond to young people, who are earn less and live in densely populated areas and moves often. They are also not that interested in finances.\n",
    "\n",
    "PCA1\n",
    "\n",
    "Top positive weights for PCA1:\n",
    "ALTERSKATEGORIE_GROB (Estimated age)\n",
    "FINANZ_VORSORGER (Financial - Be prepared)\n",
    "ZABEOTYP_3.0 (Enengy consumption - Fair)\n",
    "SEMIO_ERL (Personality - Event oriented)\n",
    "SEMIO_LUST (Personality - Sensual minded))\n",
    "\n",
    "Top negative weights for PCA1:\n",
    "FINANZ_SPARER(Financial - Saver)\n",
    "SEMIO_REL (Personality - Religious)\n",
    "FINANZ_UNAUFFAELLIGER (Financial - Inconsipicous)\n",
    "SEMIO_TRADV (Personality - Traditional minded)\n",
    "SEMIO_PFLICHT (Personality - Dutiful)\n",
    "\n",
    "This principle component gives us an idea about financial habits, personal beliefs and nature of the persons. The PCA also includes the ALTERSKATEGORIE_GROB (estimated age), which makes conclude that the PCA is referring to conservative, elderly population, who are cautious spenders and also savers.\n",
    "\n",
    "PCA2\n",
    "\n",
    "Top positive weights for PCA2:\n",
    "SEMIO_VERT (Presonality - Dreamful)\n",
    "SEMIO_SOZ (Personality - Socially minded)\n",
    "SEMIO_FAM (Personality - Family minded)\n",
    "SEMIO_KULT (Personality - Cultural minded)\n",
    "FINANZTYP_5.0 (Investor)\n",
    "\n",
    "Top negative weights for PCA2:\n",
    "ANREDE_KZ (Gender)\n",
    "SEMIO_KAEM (Personality - Combative attitue)\n",
    "SEMIO_DOM (Personality - Dominant minded)\n",
    "SEMIO_KRIT (Personality - Critical minded)\n",
    "SEMIO_ERL (Personality - Event Oriented)\n",
    "\n",
    "This group refers to individuals who are family and society oriented, who are also rational decisionmakes. This also includes financially savvy investors who could be men."
   ]
  },
  {
   "cell_type": "markdown",
   "metadata": {},
   "source": [
    "## Step 3: Clustering\n",
    "\n",
    "### Step 3.1: Apply Clustering to General Population\n",
    "\n",
    "You've assessed and cleaned the demographics data, then scaled and transformed them. Now, it's time to see how the data clusters in the principal components space. In this substep, you will apply k-means clustering to the dataset and use the average within-cluster distances from each point to their assigned cluster's centroid to decide on a number of clusters to keep.\n",
    "\n",
    "- Use sklearn's [KMeans](http://scikit-learn.org/stable/modules/generated/sklearn.cluster.KMeans.html#sklearn.cluster.KMeans) class to perform k-means clustering on the PCA-transformed data.\n",
    "- Then, compute the average difference from each point to its assigned cluster's center. **Hint**: The KMeans object's `.score()` method might be useful here, but note that in sklearn, scores tend to be defined so that larger is better. Try applying it to a small, toy dataset, or use an internet search to help your understanding.\n",
    "- Perform the above two steps for a number of different cluster counts. You can then see how the average distance decreases with an increasing number of clusters. However, each additional cluster provides a smaller net benefit. Use this fact to select a final number of clusters in which to group the data. **Warning**: because of the large size of the dataset, it can take a long time for the algorithm to resolve. The more clusters to fit, the longer the algorithm will take. You should test for cluster counts through at least 10 clusters to get the full picture, but you shouldn't need to test for a number of clusters above about 30.\n",
    "- Once you've selected a final number of clusters to use, re-fit a KMeans instance to perform the clustering operation. Make sure that you also obtain the cluster assignments for the general demographics data, since you'll be using them in the final Step 3.3."
   ]
  },
  {
   "cell_type": "code",
   "execution_count": 30,
   "metadata": {},
   "outputs": [],
   "source": [
    "from sklearn.cluster import KMeans\n",
    "import time"
   ]
  },
  {
   "cell_type": "code",
   "execution_count": 31,
   "metadata": {},
   "outputs": [],
   "source": [
    "# Over a number of different cluster counts...\n",
    "\n",
    "# run k-means clustering on the data and...\n",
    "\n",
    "# compute the average within-cluster distances.\n",
    "\n",
    "def plot_custer_scores(data):\n",
    "\n",
    "    centers = []\n",
    "    scores = []\n",
    "\n",
    "    for i in range(5,30,2):\n",
    "        print(f\"Running k-means with {i} clusters. \", end =\" \")\n",
    "        time_start = time.time()\n",
    "        clusterer = KMeans(n_clusters=i, random_state=0)\n",
    "        clusterer.fit(data)    \n",
    "        score = np.abs(clusterer.score(data))\n",
    "        centers.append(i)    \n",
    "        scores.append(score)\n",
    "        print(f\"Score: {score}\", end=\" \")\n",
    "        print(f\"[Time: {(time.time() - time_start)/60:.2f} mins]\")\n",
    "        \n",
    "    return centers, scores"
   ]
  },
  {
   "cell_type": "code",
   "execution_count": 44,
   "metadata": {},
   "outputs": [
    {
     "name": "stdout",
     "output_type": "stream",
     "text": [
      "Running k-means with 5 clusters.  Score: 60111438.47389152 [Time: 1.16 mins]\n",
      "Running k-means with 7 clusters.  Score: 57442944.48279148 [Time: 2.29 mins]\n",
      "Running k-means with 9 clusters.  Score: 55599981.817898646 [Time: 2.75 mins]\n",
      "Running k-means with 11 clusters.  Score: 54266477.063425496 [Time: 5.58 mins]\n",
      "Running k-means with 13 clusters.  Score: 53075353.25235515 [Time: 4.95 mins]\n",
      "Running k-means with 15 clusters.  Score: 52159435.50776168 [Time: 7.95 mins]\n",
      "Running k-means with 17 clusters.  Score: 51351795.909181215 [Time: 7.63 mins]\n",
      "Running k-means with 19 clusters.  Score: 50552036.561525345 [Time: 11.44 mins]\n",
      "Running k-means with 21 clusters.  Score: 50033869.75263504 [Time: 9.51 mins]\n",
      "Running k-means with 23 clusters.  Score: 49222113.734167986 [Time: 11.45 mins]\n",
      "Running k-means with 25 clusters.  Score: 48579646.90250387 [Time: 10.62 mins]\n",
      "Running k-means with 27 clusters.  Score: 48034296.80513245 [Time: 11.25 mins]\n",
      "Running k-means with 29 clusters.  Score: 47653908.345252246 [Time: 13.97 mins]\n"
     ]
    },
    {
     "data": {
      "image/png": "[encoded data removed]",
      "text/plain": [
       "<Figure size 432x288 with 1 Axes>"
      ]
     },
     "metadata": {
      "needs_background": "light"
     },
     "output_type": "display_data"
    }
   ],
   "source": [
    "# Investigate the change in within-cluster distance across number of clusters.\n",
    "# HINT: Use matplotlib's plot function to visualize this relationship.\n",
    "\n",
    "centers, scores = plot_custer_scores(azdias_pca)\n",
    "\n",
    "plt.plot(centers, scores, linestyle='--', marker='o', color='b');\n",
    "plt.xlabel('K');\n",
    "plt.ylabel('SSE');\n",
    "plt.title('SSE vs. K');"
   ]
  },
  {
   "cell_type": "code",
   "execution_count": 32,
   "metadata": {},
   "outputs": [],
   "source": [
    "# Re-fit the k-means model with the selected number of clusters and obtain\n",
    "# cluster predictions for the general population demographics data.\n",
    "\n",
    "clusterer = KMeans(n_clusters=15, random_state=0)\n",
    "azdias_preds = clusterer.fit_predict(azdias_pca)"
   ]
  },
  {
   "cell_type": "markdown",
   "metadata": {},
   "source": [
    "### Discussion 3.1: Apply Clustering to General Population\n",
    "\n",
    "**Q. Into how many clusters have you decided to segment the population?)**\n",
    "\n",
    "From the elbow plot, we can see that the best results happen when the number of clusters is 15. The average difference from each point to its assigned cluster's center doesn't seem to be imporing in proportion to the number of clusters after this point."
   ]
  },
  {
   "cell_type": "markdown",
   "metadata": {},
   "source": [
    "### Step 3.2: Apply All Steps to the Customer Data\n",
    "\n",
    "Now that you have clusters and cluster centers for the general population, it's time to see how the customer data maps on to those clusters. Take care to not confuse this for re-fitting all of the models to the customer data. Instead, you're going to use the fits from the general population to clean, transform, and cluster the customer data. In the last step of the project, you will interpret how the general population fits apply to the customer data.\n",
    "\n",
    "- Don't forget when loading in the customers data, that it is semicolon (`;`) delimited.\n",
    "- Apply the same feature wrangling, selection, and engineering steps to the customer demographics using the `clean_data()` function you created earlier. (You can assume that the customer demographics data has similar meaning behind missing data patterns as the general demographics data.)\n",
    "- Use the sklearn objects from the general demographics data, and apply their transformations to the customers data. That is, you should not be using a `.fit()` or `.fit_transform()` method to re-fit the old objects, nor should you be creating new sklearn objects! Carry the data through the feature scaling, PCA, and clustering steps, obtaining cluster assignments for all of the data in the customer demographics data."
   ]
  },
  {
   "cell_type": "code",
   "execution_count": 33,
   "metadata": {},
   "outputs": [
    {
     "data": {
      "text/plain": [
       "(191652, 85)"
      ]
     },
     "execution_count": 33,
     "metadata": {},
     "output_type": "execute_result"
    }
   ],
   "source": [
    "# Load in the customer demographics data.\n",
    "customers = pd.read_csv(filepath_or_buffer='Udacity_CUSTOMERS_Subset.csv', delimiter=\";\")\n",
    "customers.shape"
   ]
  },
  {
   "cell_type": "code",
   "execution_count": 34,
   "metadata": {},
   "outputs": [
    {
     "name": "stdout",
     "output_type": "stream",
     "text": [
      "Rows where NaNs <= 20: (141619, 85)\n",
      "Rows where NaNs > 20: (50033, 85)\n"
     ]
    },
    {
     "data": {
      "text/plain": [
       "(141619, 133)"
      ]
     },
     "execution_count": 34,
     "metadata": {},
     "output_type": "execute_result"
    }
   ],
   "source": [
    "# Apply preprocessing, feature transformation, and clustering from the general\n",
    "# demographics onto the customer data, obtaining cluster predictions for the\n",
    "# customer demographics data.\n",
    "\n",
    "# Segregate the data based on how many NaN values are present\n",
    "customers1 = customers[customers.isnull().sum(axis=1) <= 20]\n",
    "print(f\"Rows where NaNs <= 20: {customers1.shape}\")\n",
    "customers2 = customers[customers.isnull().sum(axis=1) > 20]\n",
    "print(f\"Rows where NaNs > 20: {customers2.shape}\")\n",
    "\n",
    "# We will proceed with only rows that has less NaN values\n",
    "customers = customers1.copy()\n",
    "customers = clean_data(customers)\n",
    "customers.shape"
   ]
  },
  {
   "cell_type": "code",
   "execution_count": 44,
   "metadata": {},
   "outputs": [
    {
     "data": {
      "text/plain": [
       "(141619, 139)"
      ]
     },
     "execution_count": 44,
     "metadata": {},
     "output_type": "execute_result"
    }
   ],
   "source": [
    "# Save the updated azdias for later use\n",
    "customers.to_csv('customers_clean.csv')\n",
    "customers.shape"
   ]
  },
  {
   "cell_type": "code",
   "execution_count": 35,
   "metadata": {},
   "outputs": [],
   "source": [
    "# Use the imputer to replace NaN values in colums with the median value\n",
    "customers[['GEBAEUDETYP_RASTER','ALTERSKATEGORIE_GROB','HEALTH_TYP','LP_LEBENSPHASE_FEIN','RETOURTYP_BK_S','VERS_TYP','W_KEIT_KIND_HH',\n",
    "           'ANZ_HAUSHALTE_AKTIV','ANZ_HH_TITEL','KONSUMNAEHE','KBA05_ANTG1','KBA05_ANTG2','KBA05_ANTG3','KBA05_ANTG4',\n",
    "           'KBA05_GBZ','BALLRAUM','EWDICHTE','INNENSTADT','KKK','MOBI_REGIO','ONLINE_AFFINITAET','REGIOTYP','KBA13_ANZAHL_PKW',\n",
    "           'PLZ8_ANTG1','PLZ8_ANTG2','PLZ8_ANTG3','PLZ8_ANTG4','PLZ8_HHZ','PLZ8_GBZ','ARBEIT','ORTSGR_KLS9','RELAT_AB']] = imp_nan.transform(customers[['GEBAEUDETYP_RASTER','ALTERSKATEGORIE_GROB','HEALTH_TYP','LP_LEBENSPHASE_FEIN','RETOURTYP_BK_S','VERS_TYP','W_KEIT_KIND_HH','ANZ_HAUSHALTE_AKTIV','ANZ_HH_TITEL','KONSUMNAEHE','KBA05_ANTG1','KBA05_ANTG2','KBA05_ANTG3','KBA05_ANTG4','KBA05_GBZ','BALLRAUM','EWDICHTE','INNENSTADT','KKK','MOBI_REGIO','ONLINE_AFFINITAET','REGIOTYP','KBA13_ANZAHL_PKW','PLZ8_ANTG1','PLZ8_ANTG2','PLZ8_ANTG3','PLZ8_ANTG4','PLZ8_HHZ','PLZ8_GBZ','ARBEIT','ORTSGR_KLS9','RELAT_AB']])"
   ]
  },
  {
   "cell_type": "code",
   "execution_count": 36,
   "metadata": {
    "scrolled": false
   },
   "outputs": [
    {
     "name": "stdout",
     "output_type": "stream",
     "text": [
      "ALTERSKATEGORIE_GROB        0\n",
      "ANREDE_KZ                   0\n",
      "FINANZ_MINIMALIST           0\n",
      "FINANZ_SPARER               0\n",
      "FINANZ_VORSORGER            0\n",
      "FINANZ_ANLEGER              0\n",
      "FINANZ_UNAUFFAELLIGER       0\n",
      "FINANZ_HAUSBAUER            0\n",
      "GREEN_AVANTGARDE            0\n",
      "HEALTH_TYP                  0\n",
      "LP_LEBENSPHASE_FEIN         0\n",
      "RETOURTYP_BK_S              0\n",
      "SEMIO_SOZ                   0\n",
      "SEMIO_FAM                   0\n",
      "SEMIO_REL                   0\n",
      "SEMIO_MAT                   0\n",
      "SEMIO_VERT                  0\n",
      "SEMIO_LUST                  0\n",
      "SEMIO_ERL                   0\n",
      "SEMIO_KULT                  0\n",
      "SEMIO_RAT                   0\n",
      "SEMIO_KRIT                  0\n",
      "SEMIO_DOM                   0\n",
      "SEMIO_KAEM                  0\n",
      "SEMIO_PFLICHT               0\n",
      "SEMIO_TRADV                 0\n",
      "SOHO_KZ                     0\n",
      "VERS_TYP                    0\n",
      "ANZ_PERSONEN                0\n",
      "ANZ_TITEL                   0\n",
      "HH_EINKOMMEN_SCORE          0\n",
      "W_KEIT_KIND_HH              0\n",
      "WOHNDAUER_2008              0\n",
      "ANZ_HAUSHALTE_AKTIV         0\n",
      "ANZ_HH_TITEL                0\n",
      "KONSUMNAEHE                 0\n",
      "MIN_GEBAEUDEJAHR            0\n",
      "OST_WEST_KZ                 0\n",
      "KBA05_ANTG1                 0\n",
      "KBA05_ANTG2                 0\n",
      "KBA05_ANTG3                 0\n",
      "KBA05_ANTG4                 0\n",
      "KBA05_GBZ                   0\n",
      "BALLRAUM                    0\n",
      "EWDICHTE                    0\n",
      "INNENSTADT                  0\n",
      "GEBAEUDETYP_RASTER          0\n",
      "KKK                         0\n",
      "MOBI_REGIO                  0\n",
      "ONLINE_AFFINITAET           0\n",
      "REGIOTYP                    0\n",
      "KBA13_ANZAHL_PKW            0\n",
      "PLZ8_ANTG1                  0\n",
      "PLZ8_ANTG2                  0\n",
      "PLZ8_ANTG3                  0\n",
      "PLZ8_ANTG4                  0\n",
      "PLZ8_HHZ                    0\n",
      "PLZ8_GBZ                    0\n",
      "ARBEIT                      0\n",
      "ORTSGR_KLS9                 0\n",
      "RELAT_AB                    0\n",
      "CJT_GESAMTTYP_1.0           0\n",
      "CJT_GESAMTTYP_2.0           0\n",
      "CJT_GESAMTTYP_3.0           0\n",
      "CJT_GESAMTTYP_4.0           0\n",
      "CJT_GESAMTTYP_5.0           0\n",
      "CJT_GESAMTTYP_6.0           0\n",
      "FINANZTYP_1.0               0\n",
      "FINANZTYP_2.0               0\n",
      "FINANZTYP_3.0               0\n",
      "FINANZTYP_4.0               0\n",
      "FINANZTYP_5.0               0\n",
      "FINANZTYP_6.0               0\n",
      "LP_FAMILIE_GROB_1.0         0\n",
      "LP_FAMILIE_GROB_2.0         0\n",
      "LP_FAMILIE_GROB_3.0         0\n",
      "LP_FAMILIE_GROB_4.0         0\n",
      "LP_FAMILIE_GROB_5.0         0\n",
      "LP_STATUS_GROB_1.0          0\n",
      "LP_STATUS_GROB_2.0          0\n",
      "LP_STATUS_GROB_3.0          0\n",
      "LP_STATUS_GROB_4.0          0\n",
      "LP_STATUS_GROB_5.0          0\n",
      "NATIONALITAET_KZ_1.0        0\n",
      "NATIONALITAET_KZ_2.0        0\n",
      "NATIONALITAET_KZ_3.0        0\n",
      "SHOPPER_TYP_0.0             0\n",
      "SHOPPER_TYP_1.0             0\n",
      "SHOPPER_TYP_2.0             0\n",
      "SHOPPER_TYP_3.0             0\n",
      "ZABEOTYP_1.0                0\n",
      "ZABEOTYP_2.0                0\n",
      "ZABEOTYP_3.0                0\n",
      "ZABEOTYP_4.0                0\n",
      "ZABEOTYP_5.0                0\n",
      "ZABEOTYP_6.0                0\n",
      "CAMEO_DEUG_2015_1           0\n",
      "CAMEO_DEUG_2015_2           0\n",
      "CAMEO_DEUG_2015_3           0\n",
      "CAMEO_DEUG_2015_4           0\n",
      "CAMEO_DEUG_2015_5           0\n",
      "CAMEO_DEUG_2015_6           0\n",
      "CAMEO_DEUG_2015_7           0\n",
      "CAMEO_DEUG_2015_8           0\n",
      "CAMEO_DEUG_2015_9           0\n",
      "DECADE_1940.0               0\n",
      "DECADE_1950.0               0\n",
      "DECADE_1960.0               0\n",
      "DECADE_1970.0               0\n",
      "DECADE_1980.0               0\n",
      "DECADE_1990.0               0\n",
      "MOVEMENT_1.0                0\n",
      "MOVEMENT_2.0                0\n",
      "NATION_1.0                  0\n",
      "NATION_2.0                  0\n",
      "NATION_3.0                  0\n",
      "HOUSEHOLD_WEALTH_1.0        0\n",
      "HOUSEHOLD_WEALTH_2.0        0\n",
      "HOUSEHOLD_WEALTH_3.0        0\n",
      "HOUSEHOLD_WEALTH_4.0        0\n",
      "HOUSEHOLD_WEALTH_5.0        0\n",
      "HOUSEHOLD_LIFESTAGE_1.0     0\n",
      "HOUSEHOLD_LIFESTAGE_2.0     0\n",
      "HOUSEHOLD_LIFESTAGE_3.0     0\n",
      "HOUSEHOLD_LIFESTAGE_4.0     0\n",
      "HOUSEHOLD_LIFESTAGE_5.0     0\n",
      "RURAL_NEIGHBORHOOD_0.0      0\n",
      "RURAL_NEIGHBORHOOD_1.0      0\n",
      "NEIGHBORHOOD_QUALITY_1.0    0\n",
      "NEIGHBORHOOD_QUALITY_2.0    0\n",
      "NEIGHBORHOOD_QUALITY_3.0    0\n",
      "NEIGHBORHOOD_QUALITY_4.0    0\n",
      "NEIGHBORHOOD_QUALITY_5.0    0\n",
      "dtype: int64\n"
     ]
    }
   ],
   "source": [
    "# Check for any NaN values\n",
    "with pd.option_context('display.max_rows', None, 'display.max_columns', None):\n",
    "    print(customers.isnull().sum())"
   ]
  },
  {
   "cell_type": "code",
   "execution_count": 37,
   "metadata": {},
   "outputs": [
    {
     "name": "stderr",
     "output_type": "stream",
     "text": [
      "C:\\Users\\urdee\\Anaconda3\\lib\\site-packages\\ipykernel_launcher.py:3: DataConversionWarning: Data with input dtype uint8, int64, float64 were all converted to float64 by StandardScaler.\n",
      "  This is separate from the ipykernel package so we can avoid doing imports until\n"
     ]
    },
    {
     "data": {
      "text/html": [
       "<div>\n",
       "<style scoped>\n",
       "    .dataframe tbody tr th:only-of-type {\n",
       "        vertical-align: middle;\n",
       "    }\n",
       "\n",
       "    .dataframe tbody tr th {\n",
       "        vertical-align: top;\n",
       "    }\n",
       "\n",
       "    .dataframe thead th {\n",
       "        text-align: right;\n",
       "    }\n",
       "</style>\n",
       "<table border=\"1\" class=\"dataframe\">\n",
       "  <thead>\n",
       "    <tr style=\"text-align: right;\">\n",
       "      <th></th>\n",
       "      <th>ALTERSKATEGORIE_GROB</th>\n",
       "      <th>ANREDE_KZ</th>\n",
       "      <th>FINANZ_MINIMALIST</th>\n",
       "      <th>FINANZ_SPARER</th>\n",
       "      <th>FINANZ_VORSORGER</th>\n",
       "      <th>FINANZ_ANLEGER</th>\n",
       "      <th>FINANZ_UNAUFFAELLIGER</th>\n",
       "      <th>FINANZ_HAUSBAUER</th>\n",
       "      <th>GREEN_AVANTGARDE</th>\n",
       "      <th>HEALTH_TYP</th>\n",
       "      <th>...</th>\n",
       "      <th>HOUSEHOLD_LIFESTAGE_3.0</th>\n",
       "      <th>HOUSEHOLD_LIFESTAGE_4.0</th>\n",
       "      <th>HOUSEHOLD_LIFESTAGE_5.0</th>\n",
       "      <th>RURAL_NEIGHBORHOOD_0.0</th>\n",
       "      <th>RURAL_NEIGHBORHOOD_1.0</th>\n",
       "      <th>NEIGHBORHOOD_QUALITY_1.0</th>\n",
       "      <th>NEIGHBORHOOD_QUALITY_2.0</th>\n",
       "      <th>NEIGHBORHOOD_QUALITY_3.0</th>\n",
       "      <th>NEIGHBORHOOD_QUALITY_4.0</th>\n",
       "      <th>NEIGHBORHOOD_QUALITY_5.0</th>\n",
       "    </tr>\n",
       "  </thead>\n",
       "  <tbody>\n",
       "    <tr>\n",
       "      <th>0</th>\n",
       "      <td>1.184051</td>\n",
       "      <td>-1.043765</td>\n",
       "      <td>1.409069</td>\n",
       "      <td>-1.155304</td>\n",
       "      <td>1.137960</td>\n",
       "      <td>-1.249881</td>\n",
       "      <td>-0.469752</td>\n",
       "      <td>-0.792034</td>\n",
       "      <td>1.884775</td>\n",
       "      <td>-1.610682</td>\n",
       "      <td>...</td>\n",
       "      <td>2.381119</td>\n",
       "      <td>-0.641840</td>\n",
       "      <td>-0.414645</td>\n",
       "      <td>-1.767232</td>\n",
       "      <td>1.808870</td>\n",
       "      <td>-0.241344</td>\n",
       "      <td>-0.379371</td>\n",
       "      <td>-0.674980</td>\n",
       "      <td>-0.45326</td>\n",
       "      <td>-0.320556</td>\n",
       "    </tr>\n",
       "    <tr>\n",
       "      <th>1</th>\n",
       "      <td>1.184051</td>\n",
       "      <td>0.958071</td>\n",
       "      <td>1.409069</td>\n",
       "      <td>-1.155304</td>\n",
       "      <td>1.137960</td>\n",
       "      <td>-1.249881</td>\n",
       "      <td>0.959677</td>\n",
       "      <td>0.628533</td>\n",
       "      <td>1.884775</td>\n",
       "      <td>-0.257263</td>\n",
       "      <td>...</td>\n",
       "      <td>-0.419971</td>\n",
       "      <td>1.558021</td>\n",
       "      <td>-0.414645</td>\n",
       "      <td>0.565857</td>\n",
       "      <td>-0.552831</td>\n",
       "      <td>-0.241344</td>\n",
       "      <td>2.635942</td>\n",
       "      <td>-0.674980</td>\n",
       "      <td>-0.45326</td>\n",
       "      <td>-0.320556</td>\n",
       "    </tr>\n",
       "    <tr>\n",
       "      <th>2</th>\n",
       "      <td>1.184051</td>\n",
       "      <td>-1.043765</td>\n",
       "      <td>1.409069</td>\n",
       "      <td>-1.155304</td>\n",
       "      <td>1.137960</td>\n",
       "      <td>-0.570799</td>\n",
       "      <td>-1.184467</td>\n",
       "      <td>-0.792034</td>\n",
       "      <td>-0.530567</td>\n",
       "      <td>-0.257263</td>\n",
       "      <td>...</td>\n",
       "      <td>-0.419971</td>\n",
       "      <td>1.558021</td>\n",
       "      <td>-0.414645</td>\n",
       "      <td>-1.767232</td>\n",
       "      <td>1.808870</td>\n",
       "      <td>-0.241344</td>\n",
       "      <td>-0.379371</td>\n",
       "      <td>-0.674980</td>\n",
       "      <td>-0.45326</td>\n",
       "      <td>-0.320556</td>\n",
       "    </tr>\n",
       "    <tr>\n",
       "      <th>3</th>\n",
       "      <td>0.200589</td>\n",
       "      <td>-1.043765</td>\n",
       "      <td>-0.042770</td>\n",
       "      <td>-1.155304</td>\n",
       "      <td>0.411731</td>\n",
       "      <td>0.787366</td>\n",
       "      <td>1.674391</td>\n",
       "      <td>-0.792034</td>\n",
       "      <td>-0.530567</td>\n",
       "      <td>1.096155</td>\n",
       "      <td>...</td>\n",
       "      <td>-0.419971</td>\n",
       "      <td>-0.641840</td>\n",
       "      <td>-0.414645</td>\n",
       "      <td>0.565857</td>\n",
       "      <td>-0.552831</td>\n",
       "      <td>-0.241344</td>\n",
       "      <td>-0.379371</td>\n",
       "      <td>1.481526</td>\n",
       "      <td>-0.45326</td>\n",
       "      <td>-0.320556</td>\n",
       "    </tr>\n",
       "    <tr>\n",
       "      <th>4</th>\n",
       "      <td>0.200589</td>\n",
       "      <td>-1.043765</td>\n",
       "      <td>1.409069</td>\n",
       "      <td>-1.155304</td>\n",
       "      <td>1.137960</td>\n",
       "      <td>-1.249881</td>\n",
       "      <td>-0.469752</td>\n",
       "      <td>-0.081750</td>\n",
       "      <td>1.884775</td>\n",
       "      <td>1.096155</td>\n",
       "      <td>...</td>\n",
       "      <td>-0.419971</td>\n",
       "      <td>1.558021</td>\n",
       "      <td>-0.414645</td>\n",
       "      <td>0.565857</td>\n",
       "      <td>-0.552831</td>\n",
       "      <td>4.143468</td>\n",
       "      <td>-0.379371</td>\n",
       "      <td>-0.674980</td>\n",
       "      <td>-0.45326</td>\n",
       "      <td>-0.320556</td>\n",
       "    </tr>\n",
       "  </tbody>\n",
       "</table>\n",
       "<p>5 rows × 133 columns</p>\n",
       "</div>"
      ],
      "text/plain": [
       "   ALTERSKATEGORIE_GROB  ANREDE_KZ  FINANZ_MINIMALIST  FINANZ_SPARER  \\\n",
       "0              1.184051  -1.043765           1.409069      -1.155304   \n",
       "1              1.184051   0.958071           1.409069      -1.155304   \n",
       "2              1.184051  -1.043765           1.409069      -1.155304   \n",
       "3              0.200589  -1.043765          -0.042770      -1.155304   \n",
       "4              0.200589  -1.043765           1.409069      -1.155304   \n",
       "\n",
       "   FINANZ_VORSORGER  FINANZ_ANLEGER  FINANZ_UNAUFFAELLIGER  FINANZ_HAUSBAUER  \\\n",
       "0          1.137960       -1.249881              -0.469752         -0.792034   \n",
       "1          1.137960       -1.249881               0.959677          0.628533   \n",
       "2          1.137960       -0.570799              -1.184467         -0.792034   \n",
       "3          0.411731        0.787366               1.674391         -0.792034   \n",
       "4          1.137960       -1.249881              -0.469752         -0.081750   \n",
       "\n",
       "   GREEN_AVANTGARDE  HEALTH_TYP  ...  HOUSEHOLD_LIFESTAGE_3.0  \\\n",
       "0          1.884775   -1.610682  ...                 2.381119   \n",
       "1          1.884775   -0.257263  ...                -0.419971   \n",
       "2         -0.530567   -0.257263  ...                -0.419971   \n",
       "3         -0.530567    1.096155  ...                -0.419971   \n",
       "4          1.884775    1.096155  ...                -0.419971   \n",
       "\n",
       "   HOUSEHOLD_LIFESTAGE_4.0  HOUSEHOLD_LIFESTAGE_5.0  RURAL_NEIGHBORHOOD_0.0  \\\n",
       "0                -0.641840                -0.414645               -1.767232   \n",
       "1                 1.558021                -0.414645                0.565857   \n",
       "2                 1.558021                -0.414645               -1.767232   \n",
       "3                -0.641840                -0.414645                0.565857   \n",
       "4                 1.558021                -0.414645                0.565857   \n",
       "\n",
       "   RURAL_NEIGHBORHOOD_1.0  NEIGHBORHOOD_QUALITY_1.0  NEIGHBORHOOD_QUALITY_2.0  \\\n",
       "0                1.808870                 -0.241344                 -0.379371   \n",
       "1               -0.552831                 -0.241344                  2.635942   \n",
       "2                1.808870                 -0.241344                 -0.379371   \n",
       "3               -0.552831                 -0.241344                 -0.379371   \n",
       "4               -0.552831                  4.143468                 -0.379371   \n",
       "\n",
       "   NEIGHBORHOOD_QUALITY_3.0  NEIGHBORHOOD_QUALITY_4.0  \\\n",
       "0                 -0.674980                  -0.45326   \n",
       "1                 -0.674980                  -0.45326   \n",
       "2                 -0.674980                  -0.45326   \n",
       "3                  1.481526                  -0.45326   \n",
       "4                 -0.674980                  -0.45326   \n",
       "\n",
       "   NEIGHBORHOOD_QUALITY_5.0  \n",
       "0                 -0.320556  \n",
       "1                 -0.320556  \n",
       "2                 -0.320556  \n",
       "3                 -0.320556  \n",
       "4                 -0.320556  \n",
       "\n",
       "[5 rows x 133 columns]"
      ]
     },
     "execution_count": 37,
     "metadata": {},
     "output_type": "execute_result"
    }
   ],
   "source": [
    "# Apply feature scaling \n",
    "\n",
    "scaled_output = scaler.transform(customers)\n",
    "\n",
    "# Covert the ndarray back to a dataframe\n",
    "customers_scaled = pd.DataFrame(scaled_output)\n",
    "customers_scaled.columns = customers.columns\n",
    "\n",
    "customers_scaled.head()"
   ]
  },
  {
   "cell_type": "code",
   "execution_count": 38,
   "metadata": {},
   "outputs": [],
   "source": [
    "# Apply PCA to the data.\n",
    "\n",
    "customers_pca = pca.transform(customers_scaled)"
   ]
  },
  {
   "cell_type": "code",
   "execution_count": 39,
   "metadata": {},
   "outputs": [],
   "source": [
    "# Re-fit the k-means model with the selected number of clusters and obtain\n",
    "# cluster predictions for the general population demographics data.\n",
    "\n",
    "customers_preds = clusterer.predict(customers_pca)"
   ]
  },
  {
   "cell_type": "markdown",
   "metadata": {},
   "source": [
    "### Step 3.3: Compare Customer Data to Demographics Data\n",
    "\n",
    "At this point, you have clustered data based on demographics of the general population of Germany, and seen how the customer data for a mail-order sales company maps onto those demographic clusters. In this final substep, you will compare the two cluster distributions to see where the strongest customer base for the company is.\n",
    "\n",
    "Consider the proportion of persons in each cluster for the general population, and the proportions for the customers. If we think the company's customer base to be universal, then the cluster assignment proportions should be fairly similar between the two. If there are only particular segments of the population that are interested in the company's products, then we should see a mismatch from one to the other. If there is a higher proportion of persons in a cluster for the customer data compared to the general population (e.g. 5% of persons are assigned to a cluster for the general population, but 15% of the customer data is closest to that cluster's centroid) then that suggests the people in that cluster to be a target audience for the company. On the other hand, the proportion of the data in a cluster being larger in the general population than the customer data (e.g. only 2% of customers closest to a population centroid that captures 6% of the data) suggests that group of persons to be outside of the target demographics.\n",
    "\n",
    "Take a look at the following points in this step:\n",
    "\n",
    "- Compute the proportion of data points in each cluster for the general population and the customer data. Visualizations will be useful here: both for the individual dataset proportions, but also to visualize the ratios in cluster representation between groups. Seaborn's [`countplot()`](https://seaborn.pydata.org/generated/seaborn.countplot.html) or [`barplot()`](https://seaborn.pydata.org/generated/seaborn.barplot.html) function could be handy.\n",
    "  - Recall the analysis you performed in step 1.1.3 of the project, where you separated out certain data points from the dataset if they had more than a specified threshold of missing values. If you found that this group was qualitatively different from the main bulk of the data, you should treat this as an additional data cluster in this analysis. Make sure that you account for the number of data points in this subset, for both the general population and customer datasets, when making your computations!\n",
    "- Which cluster or clusters are overrepresented in the customer dataset compared to the general population? Select at least one such cluster and infer what kind of people might be represented by that cluster. Use the principal component interpretations from step 2.3 or look at additional components to help you make this inference. Alternatively, you can use the `.inverse_transform()` method of the PCA and StandardScaler objects to transform centroids back to the original data space and interpret the retrieved values directly.\n",
    "- Perform a similar investigation for the underrepresented clusters. Which cluster or clusters are underrepresented in the customer dataset compared to the general population, and what kinds of people are typified by these clusters?"
   ]
  },
  {
   "cell_type": "code",
   "execution_count": 40,
   "metadata": {},
   "outputs": [],
   "source": [
    "# Compare the proportion of data in each cluster for the customer data to the\n",
    "# proportion of data in each cluster for the general population.\n",
    "\n",
    "# Converting ndarray to a data frame\n",
    "azdias_preds_df = pd.DataFrame(azdias_preds, columns=['CLUSTER'])\n",
    "# Adding the ignored rows from azdias data set as cluster no 15.\n",
    "azdias_nans = pd.DataFrame((np.ones(azdias2.shape[0])*15).astype(int), index=azdias2.index, columns=['CLUSTER'])\n",
    "azdias_total = pd.concat([azdias_preds_df, azdias_nans])\n",
    "azdias_total['SOURCE']='azdias'\n",
    "\n",
    "customers_preds_df = pd.DataFrame(customers_preds, columns=['CLUSTER'])\n",
    "# Adding the ignored rows from customers data set as cluster no 15.\n",
    "customers_nans = pd.DataFrame((np.ones(customers2.shape[0])*15).astype(int), index=customers2.index, columns=['CLUSTER'])\n",
    "customers_total = pd.concat([customers_preds_df, customers_nans])\n",
    "customers_total['SOURCE']='customers'\n",
    "\n",
    "#azdias_total.groupby(['CLUSTER'])['CLUSTER'].count()\n",
    "#azdias_total\n",
    "\n",
    "#customers_total.groupby(['CLUSTER'])['CLUSTER'].count()\n",
    "#customers_total"
   ]
  },
  {
   "cell_type": "code",
   "execution_count": 41,
   "metadata": {},
   "outputs": [
    {
     "data": {
      "image/png": "[encoded data removed]",
      "text/plain": [
       "<Figure size 432x288 with 1 Axes>"
      ]
     },
     "metadata": {},
     "output_type": "display_data"
    }
   ],
   "source": [
    "sns.set(style=\"darkgrid\")\n",
    "ax = sns.countplot(x=\"CLUSTER\", data=azdias_preds_df)"
   ]
  },
  {
   "cell_type": "code",
   "execution_count": 42,
   "metadata": {},
   "outputs": [
    {
     "data": {
      "image/png": "[encoded data removed]",
      "text/plain": [
       "<Figure size 432x288 with 1 Axes>"
      ]
     },
     "metadata": {},
     "output_type": "display_data"
    }
   ],
   "source": [
    "sns.set(style=\"darkgrid\")\n",
    "ax = sns.countplot(x=\"CLUSTER\", data=customers_preds_df)"
   ]
  },
  {
   "cell_type": "code",
   "execution_count": 43,
   "metadata": {},
   "outputs": [
    {
     "data": {
      "image/png": "[encoded data removed]",
      "text/plain": [
       "<Figure size 864x576 with 1 Axes>"
      ]
     },
     "metadata": {},
     "output_type": "display_data"
    }
   ],
   "source": [
    "# Sum up the items in the cluster and change to proportional values\n",
    "\n",
    "azdias_prop = azdias_total.groupby('CLUSTER')['CLUSTER'].count()\n",
    "azdias_prop = azdias_prop/azdias_prop.sum()\n",
    "azdias_prop_df = pd.DataFrame(azdias_prop)\n",
    "azdias_prop_df.columns = ['PROPORTION']\n",
    "azdias_prop_df = azdias_prop_df.reset_index()\n",
    "azdias_prop_df['SOURCE']='azdias'\n",
    "#azdias_prop_df\n",
    "\n",
    "customers_prop = customers_total.groupby('CLUSTER')['CLUSTER'].count()\n",
    "customers_prop = customers_prop/customers_prop.sum()\n",
    "customers_prop_df = pd.DataFrame(customers_prop)\n",
    "customers_prop_df.columns = ['PROPORTION']\n",
    "customers_prop_df = customers_prop_df.reset_index()\n",
    "customers_prop_df['SOURCE']='customers'\n",
    "#customers_prop_df\n",
    "\n",
    "total_data = pd.concat([azdias_prop_df, customers_prop_df], ignore_index=True)\n",
    "#total_data\n",
    "\n",
    "# Plot the results\n",
    "fig, ax = plt.subplots(figsize=(12,8))\n",
    "\n",
    "sns.set(style=\"darkgrid\")\n",
    "x = sns.barplot(ax=ax, x=\"CLUSTER\", y=\"PROPORTION\", hue=\"SOURCE\", data=total_data)"
   ]
  },
  {
   "cell_type": "markdown",
   "metadata": {},
   "source": [
    "From the above plots, we can observe that clusters 8, 9, 12 and 15 are over represented among customer data by a large margin. Similarly, among the remaining clusters, clusters 3, 10, 11, 13, and 14 are under represented by a significant margin."
   ]
  },
  {
   "cell_type": "code",
   "execution_count": 44,
   "metadata": {},
   "outputs": [
    {
     "name": "stdout",
     "output_type": "stream",
     "text": [
      "MIN_GEBAEUDEJAHR            1992.710520\n",
      "KBA13_ANZAHL_PKW             680.179768\n",
      "LP_LEBENSPHASE_FEIN           23.750137\n",
      "WOHNDAUER_2008                 8.601886\n",
      "SEMIO_VERT                     6.279788\n",
      "ORTSGR_KLS9                    5.516804\n",
      "SEMIO_SOZ                      5.298070\n",
      "SEMIO_LUST                     5.262854\n",
      "SEMIO_KULT                     4.943138\n",
      "SEMIO_FAM                      4.906798\n",
      "FINANZ_MINIMALIST              4.760694\n",
      "INNENSTADT                     4.485218\n",
      "FINANZ_VORSORGER               4.366771\n",
      "W_KEIT_KIND_HH                 4.236579\n",
      "MOBI_REGIO                     4.097505\n",
      "EWDICHTE                       4.091742\n",
      "KBA05_GBZ                      4.066394\n",
      "SEMIO_ERL                      4.007622\n",
      "GEBAEUDETYP_RASTER             3.957625\n",
      "RETOURTYP_BK_S                 3.917872\n",
      "SEMIO_MAT                      3.892611\n",
      "BALLRAUM                       3.865309\n",
      "PLZ8_GBZ                       3.851685\n",
      "SEMIO_REL                      3.832883\n",
      "PLZ8_HHZ                       3.673378\n",
      "REGIOTYP                       3.361900\n",
      "KONSUMNAEHE                    3.331615\n",
      "SEMIO_DOM                      3.286010\n",
      "ALTERSKATEGORIE_GROB           3.285660\n",
      "SEMIO_PFLICHT                  3.283294\n",
      "                               ...     \n",
      "LP_FAMILIE_GROB_4.0            0.092783\n",
      "HOUSEHOLD_WEALTH_3.0           0.086748\n",
      "HOUSEHOLD_LIFESTAGE_1.0        0.086618\n",
      "FINANZTYP_3.0                  0.081086\n",
      "CJT_GESAMTTYP_6.0              0.076126\n",
      "CAMEO_DEUG_2015_5              0.074841\n",
      "ZABEOTYP_2.0                   0.072442\n",
      "DECADE_1940.0                  0.063771\n",
      "LP_STATUS_GROB_4.0             0.063099\n",
      "ZABEOTYP_6.0                   0.055720\n",
      "ZABEOTYP_4.0                   0.051906\n",
      "HOUSEHOLD_WEALTH_5.0           0.044653\n",
      "NATIONALITAET_KZ_2.0           0.043690\n",
      "NATION_2.0                     0.042648\n",
      "DECADE_1990.0                  0.042503\n",
      "CAMEO_DEUG_2015_7              0.042286\n",
      "CAMEO_DEUG_2015_8              0.034137\n",
      "NEIGHBORHOOD_QUALITY_5.0       0.024487\n",
      "CAMEO_DEUG_2015_9              0.021981\n",
      "ANZ_HH_TITEL                   0.019334\n",
      "LP_FAMILIE_GROB_3.0            0.019122\n",
      "ANZ_TITEL                      0.013530\n",
      "KBA05_ANTG4                    0.009466\n",
      "FINANZTYP_4.0                  0.008418\n",
      "NATIONALITAET_KZ_3.0           0.004254\n",
      "SOHO_KZ                        0.002804\n",
      "LP_STATUS_GROB_1.0            -0.004285\n",
      "MOVEMENT_1.0                  -0.009813\n",
      "ZABEOTYP_5.0                  -0.034586\n",
      "FINANZTYP_1.0                 -0.038432\n",
      "Length: 133, dtype: float64\n"
     ]
    }
   ],
   "source": [
    "# What kinds of people are part of a cluster that is overrepresented in the\n",
    "# customer data compared to the general population?\n",
    "\n",
    "cluster_8_transformed_out  = scaler.inverse_transform(pca.inverse_transform(clusterer.cluster_centers_[8]))\n",
    "cluster_8 = pd.Series(data = cluster_8_transformed_out , index = customers.columns)\n",
    "print(cluster_8.sort_values(ascending=False))"
   ]
  },
  {
   "cell_type": "code",
   "execution_count": 45,
   "metadata": {},
   "outputs": [
    {
     "name": "stdout",
     "output_type": "stream",
     "text": [
      "MIN_GEBAEUDEJAHR            1992.604421\n",
      "KBA13_ANZAHL_PKW             536.717798\n",
      "ANZ_HAUSHALTE_AKTIV           14.911929\n",
      "LP_LEBENSPHASE_FEIN            9.161277\n",
      "WOHNDAUER_2008                 6.837819\n",
      "ORTSGR_KLS9                    6.691971\n",
      "SEMIO_KULT                     6.649577\n",
      "SEMIO_FAM                      6.573365\n",
      "SEMIO_SOZ                      6.401345\n",
      "SEMIO_REL                      6.082852\n",
      "SEMIO_VERT                     5.914255\n",
      "HH_EINKOMMEN_SCORE             5.508079\n",
      "SEMIO_PFLICHT                  5.406631\n",
      "REGIOTYP                       4.994486\n",
      "EWDICHTE                       4.921076\n",
      "SEMIO_MAT                      4.878106\n",
      "SEMIO_TRADV                    4.699887\n",
      "FINANZ_SPARER                  4.639628\n",
      "W_KEIT_KIND_HH                 4.608575\n",
      "FINANZ_UNAUFFAELLIGER          4.068773\n",
      "SEMIO_RAT                      3.968183\n",
      "FINANZ_HAUSBAUER               3.824842\n",
      "FINANZ_ANLEGER                 3.774597\n",
      "PLZ8_HHZ                       3.761529\n",
      "ARBEIT                         3.622595\n",
      "RELAT_AB                       3.587793\n",
      "INNENSTADT                     3.568307\n",
      "BALLRAUM                       3.470336\n",
      "GEBAEUDETYP_RASTER             3.425429\n",
      "PLZ8_ANTG2                     3.237421\n",
      "                               ...     \n",
      "CAMEO_DEUG_2015_5              0.052454\n",
      "ZABEOTYP_3.0                   0.041855\n",
      "HOUSEHOLD_WEALTH_2.0           0.037974\n",
      "CJT_GESAMTTYP_6.0              0.037007\n",
      "NEIGHBORHOOD_QUALITY_1.0       0.035401\n",
      "LP_FAMILIE_GROB_4.0            0.030948\n",
      "LP_FAMILIE_GROB_3.0            0.030588\n",
      "CAMEO_DEUG_2015_4              0.025959\n",
      "DECADE_1960.0                  0.025087\n",
      "LP_STATUS_GROB_3.0             0.024524\n",
      "RURAL_NEIGHBORHOOD_1.0         0.019918\n",
      "DECADE_1950.0                  0.017919\n",
      "NATION_2.0                     0.013488\n",
      "CAMEO_DEUG_2015_3              0.012015\n",
      "HOUSEHOLD_WEALTH_1.0           0.009979\n",
      "DECADE_1970.0                  0.007459\n",
      "CJT_GESAMTTYP_1.0              0.006185\n",
      "CAMEO_DEUG_2015_1              0.005983\n",
      "LP_STATUS_GROB_5.0             0.004194\n",
      "CAMEO_DEUG_2015_2              0.003996\n",
      "SOHO_KZ                        0.003245\n",
      "ANZ_TITEL                      0.002965\n",
      "DECADE_1980.0                 -0.003138\n",
      "ZABEOTYP_6.0                  -0.003619\n",
      "DECADE_1940.0                 -0.007153\n",
      "ZABEOTYP_2.0                  -0.011298\n",
      "CJT_GESAMTTYP_2.0             -0.020461\n",
      "LP_STATUS_GROB_4.0            -0.022653\n",
      "NATION_3.0                    -0.032058\n",
      "FINANZTYP_2.0                 -0.057912\n",
      "Length: 133, dtype: float64\n"
     ]
    }
   ],
   "source": [
    "# What kinds of people are part of a cluster that is underrepresented in the\n",
    "# customer data compared to the general population?\n",
    "\n",
    "cluster_3_transformed_out  = scaler.inverse_transform(pca.inverse_transform(clusterer.cluster_centers_[3]))\n",
    "cluster_3 = pd.Series(data = cluster_3_transformed_out , index = customers.columns)\n",
    "print(cluster_3.sort_values(ascending=False))"
   ]
  },
  {
   "cell_type": "code",
   "execution_count": null,
   "metadata": {},
   "outputs": [],
   "source": []
  },
  {
   "attachments": {},
   "cell_type": "markdown",
   "metadata": {},
   "source": [
    "### Discussion 3.3: Compare Customer Data to Demographics Data\n",
    "\n",
    "**Q. Can we describe segments of the population that are relatively popular with the mail-order company, or relatively unpopular with the company?**\n",
    "\n",
    "From the analysis conducted above, we can conclude that the CLUSTER 8 is over represented, and therefore more popular with the company. CLUSTER 3 is under represented in the company. We will look at these sengments in detail below.\n",
    "\n",
    "CLUSTER 8 (Over represented)\n",
    "\n",
    "This cluster consists of people how are 46 - 60 years old, highly religious, single parent, high-income earners who are city dwellers. They are less likely to move frequently, and they have been staying at the present residence for 7-10 years. They belong to upper middle class, with average possibility of children living with them. They stay in areas with mixed commercial and residential buildings with 20,001 to  50,000 inhabitants in community. They have low financial interest.\n",
    "\n",
    "CLUSTER 3 (Under represented)\n",
    "\n",
    "This cluster consists of single independent persons, belonging to middle class with lower income who stay within 3 -  5 km to the city center. They live in larger urban communites with 50,001 to 100,000 inhabitants, with average share of unemployment. They have been staying at the present residence for 5-6 years, so they tend to move a lot more often. They have average inclination towards saving money, and being a home owner and investing."
   ]
  },
  {
   "cell_type": "markdown",
   "metadata": {},
   "source": [
    "> Congratulations on making it this far in the project! Before you finish, make sure to check through the entire notebook from top to bottom to make sure that your analysis follows a logical flow and all of your findings are documented in **Discussion** cells. Once you've checked over all of your work, you should export the notebook as an HTML document to submit for evaluation. You can do this from the menu, navigating to **File -> Download as -> HTML (.html)**. You will submit both that document and this notebook for your project submission."
   ]
  },
  {
   "cell_type": "code",
   "execution_count": null,
   "metadata": {},
   "outputs": [],
   "source": []
  }
 ],
 "metadata": {
  "kernelspec": {
   "display_name": "Python 3",
   "language": "python",
   "name": "python3"
  },
  "language_info": {
   "codemirror_mode": {
    "name": "ipython",
    "version": 3
   },
   "file_extension": ".py",
   "mimetype": "text/x-python",
   "name": "python",
   "nbconvert_exporter": "python",
   "pygments_lexer": "ipython3",
   "version": "3.6.8"
  }
 },
 "nbformat": 4,
 "nbformat_minor": 2
}
