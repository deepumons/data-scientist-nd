{
 "cells": [
  {
   "cell_type": "markdown",
   "metadata": {},
   "source": [
    "### What is Machine Learning?\n",
    "\n",
    "One can say Statistics + Computer Science = Machine Learning. The field of machine learning arises from the developments in Comupter Scince and application of Statistics.\n",
    "\n",
    "The statistical interpretation of Machine Learning comes from understanding data. Statistics has developed probablity models (Poisson distribution, bell curves, etc. )to describe describe the world around us based on the input data. However, when we generate data based on these models, they often do not line up with real world.\n",
    "\n",
    "Scientits realised that it's better to develop models to correctly predict where the data should go, instead of writing endless if-else statements, i.e. create and train models to recognise patterns among the given data.\n",
    "\n",
    "Initially models based on popular statistical distributions were used to generate data. However, this introduces discrepencies between the generated data and the real world data. Machine Learning, these days, uses flexible models rather than following standard statistical models. This imporoves performance and accuracy, but introduces a new problem - It may not be possible to identify why a particular decision was taken by the model.\n",
    "\n",
    "#### Types of Machine Learning\n",
    "\n",
    "ML can be boadly classified into three types: Supervised, Unsupervised, and Reinforcement Learning.\n",
    "\n",
    "1) Supervised Learning\n",
    "\n",
    "These models looks at the already available data and it's labels (or categories) to train the models and predict the category of the new data item. Supervised Learning can be further classified into Classification and Regression.\n",
    "\n",
    "a) Classification methods decides if the data belongs to either or one or the other category, or one among many categories. For example, deciding if the new mail received is spam or not is an example for classification method. So is deciding on the breed of a dog among many dog breeds.\n",
    "b) Regression methods are meant for predicting numeric values. Predicting housing values, or height of a person, etc. are examples for this.\n",
    "\n",
    "2) Unsupervised Learning\n",
    "\n",
    "Unsupervised learning is used to create models in the absense of any pre exiting labels, or data to train on. Grouping data, building recommendation engines, etc. are good examples for this.\n",
    "\n",
    "3) Reinforcement Learning\n",
    "\n",
    "In this method, the model performs an action and learns from it's outcome, i.e. weather it was positive, or negative, good or bad, etc. Thus the outcome further reinforces the models understanding of the data, and it takes the lessons learnt into account going into the next iteration.\n",
    "\n",
    "It's to be noted that Reinforcement Learning methods do not have many applications in Data Science as bulk of the Data Science problems fall into Supervised or Unsupervised learning.\n",
    "\n",
    "#### Deep Learning\n",
    "\n",
    "Deep Learning can be seen as Machine Learning on Steroids. Deep Learning can be used for all three machine learning types discussed earlier, but it's application may not be useful in all situations. Deep learning requires a tremendous amount of data, and computing power to generate results compared with other machine learning methods.\n",
    "\n",
    "\n",
    "\n"
   ]
  }
 ],
 "metadata": {
  "kernelspec": {
   "display_name": "Python 3",
   "language": "python",
   "name": "python3"
  },
  "language_info": {
   "codemirror_mode": {
    "name": "ipython",
    "version": 3
   },
   "file_extension": ".py",
   "mimetype": "text/x-python",
   "name": "python",
   "nbconvert_exporter": "python",
   "pygments_lexer": "ipython3",
   "version": "3.7.0"
  }
 },
 "nbformat": 4,
 "nbformat_minor": 2
}
